{
 "cells": [
  {
   "cell_type": "markdown",
   "metadata": {
    "colab_type": "text"
   },
   "source": [
    "## Leveraging a pretrained model\n",
    "\n",
    "Adapted from Chollet's [notebook](https://github.com/fchollet/deep-learning-with-python-notebooks/blob/master/chapter08_intro-to-dl-for-computer-vision.ipynb) in accordance with the Apache V2 license.\n",
    "\n",
    "See also [Keras Tutorial](https://keras.io/guides/transfer_learning/)"
   ]
  },
  {
   "cell_type": "markdown",
   "metadata": {
    "colab_type": "text"
   },
   "source": [
    "### Feature extraction with a pretrained model"
   ]
  },
  {
   "cell_type": "code",
   "execution_count": 4,
   "metadata": {},
   "outputs": [],
   "source": [
    "from tensorflow import keras\n",
    "from tensorflow.keras import layers\n",
    "import pathlib\n",
    "from tensorflow.keras.utils import image_dataset_from_directory"
   ]
  },
  {
   "cell_type": "markdown",
   "metadata": {
    "colab_type": "text"
   },
   "source": [
    "**Instantiating the VGG16 convolutional base**"
   ]
  },
  {
   "cell_type": "markdown",
   "metadata": {},
   "source": [
    "**To the Student**: Read the VGG16 docs and check:\n",
    "* What does `include_top=False` do? `\n",
    "* What is the functionality of `input_shape` ?"
   ]
  },
  {
   "cell_type": "code",
   "execution_count": 2,
   "metadata": {
    "colab_type": "code"
   },
   "outputs": [],
   "source": [
    "conv_base = keras.applications.vgg16.VGG16(\n",
    "    weights=\"imagenet\",\n",
    "    include_top=False,\n",
    "    input_shape=(180, 180, 3))"
   ]
  },
  {
   "cell_type": "code",
   "execution_count": 3,
   "metadata": {
    "colab_type": "code"
   },
   "outputs": [
    {
     "name": "stdout",
     "output_type": "stream",
     "text": [
      "Model: \"vgg16\"\n",
      "_________________________________________________________________\n",
      " Layer (type)                Output Shape              Param #   \n",
      "=================================================================\n",
      " input_1 (InputLayer)        [(None, 180, 180, 3)]     0         \n",
      "                                                                 \n",
      " block1_conv1 (Conv2D)       (None, 180, 180, 64)      1792      \n",
      "                                                                 \n",
      " block1_conv2 (Conv2D)       (None, 180, 180, 64)      36928     \n",
      "                                                                 \n",
      " block1_pool (MaxPooling2D)  (None, 90, 90, 64)        0         \n",
      "                                                                 \n",
      " block2_conv1 (Conv2D)       (None, 90, 90, 128)       73856     \n",
      "                                                                 \n",
      " block2_conv2 (Conv2D)       (None, 90, 90, 128)       147584    \n",
      "                                                                 \n",
      " block2_pool (MaxPooling2D)  (None, 45, 45, 128)       0         \n",
      "                                                                 \n",
      " block3_conv1 (Conv2D)       (None, 45, 45, 256)       295168    \n",
      "                                                                 \n",
      " block3_conv2 (Conv2D)       (None, 45, 45, 256)       590080    \n",
      "                                                                 \n",
      " block3_conv3 (Conv2D)       (None, 45, 45, 256)       590080    \n",
      "                                                                 \n",
      " block3_pool (MaxPooling2D)  (None, 22, 22, 256)       0         \n",
      "                                                                 \n",
      " block4_conv1 (Conv2D)       (None, 22, 22, 512)       1180160   \n",
      "                                                                 \n",
      " block4_conv2 (Conv2D)       (None, 22, 22, 512)       2359808   \n",
      "                                                                 \n",
      " block4_conv3 (Conv2D)       (None, 22, 22, 512)       2359808   \n",
      "                                                                 \n",
      " block4_pool (MaxPooling2D)  (None, 11, 11, 512)       0         \n",
      "                                                                 \n",
      " block5_conv1 (Conv2D)       (None, 11, 11, 512)       2359808   \n",
      "                                                                 \n",
      " block5_conv2 (Conv2D)       (None, 11, 11, 512)       2359808   \n",
      "                                                                 \n",
      " block5_conv3 (Conv2D)       (None, 11, 11, 512)       2359808   \n",
      "                                                                 \n",
      " block5_pool (MaxPooling2D)  (None, 5, 5, 512)         0         \n",
      "                                                                 \n",
      "=================================================================\n",
      "Total params: 14,714,688\n",
      "Trainable params: 14,714,688\n",
      "Non-trainable params: 0\n",
      "_________________________________________________________________\n"
     ]
    }
   ],
   "source": [
    "conv_base.summary()"
   ]
  },
  {
   "cell_type": "markdown",
   "metadata": {},
   "source": [
    "**To the Student**:\n",
    "* Which layers does a conv block and a pool block each include?"
   ]
  },
  {
   "cell_type": "markdown",
   "metadata": {
    "colab_type": "text"
   },
   "source": [
    "#### Fast feature extraction without data augmentation"
   ]
  },
  {
   "cell_type": "markdown",
   "metadata": {
    "colab_type": "text"
   },
   "source": [
    "**Extracting the VGG16 features and corresponding labels**"
   ]
  },
  {
   "cell_type": "code",
   "execution_count": 5,
   "metadata": {},
   "outputs": [
    {
     "name": "stdout",
     "output_type": "stream",
     "text": [
      "Found 2000 files belonging to 2 classes.\n",
      "Found 1000 files belonging to 2 classes.\n",
      "Found 2000 files belonging to 2 classes.\n"
     ]
    }
   ],
   "source": [
    "# This should point to the small dataset of the Kaggle Dogs vs Cats competition that was created in a previous notebook\n",
    "data_folder = pathlib.Path('../data/kaggle_dogs_vs_cats_small')\n",
    "\n",
    "train_dataset = image_dataset_from_directory(\n",
    "    data_folder / \"train\",\n",
    "    image_size=(180, 180),\n",
    "    batch_size=32)\n",
    "validation_dataset = image_dataset_from_directory(\n",
    "    data_folder / \"validation\",\n",
    "    image_size=(180, 180),\n",
    "    batch_size=32)\n",
    "test_dataset = image_dataset_from_directory(\n",
    "    data_folder / \"test\",\n",
    "    image_size=(180, 180),\n",
    "    batch_size=32)"
   ]
  },
  {
   "cell_type": "markdown",
   "metadata": {},
   "source": [
    "Note: running the following cell on a CPU will take about 10 minutes"
   ]
  },
  {
   "cell_type": "code",
   "execution_count": 6,
   "metadata": {
    "colab_type": "code"
   },
   "outputs": [
    {
     "name": "stdout",
     "output_type": "stream",
     "text": [
      "1/1 [==============================] - 4s 4s/step\n",
      "1/1 [==============================] - 4s 4s/step\n",
      "1/1 [==============================] - 4s 4s/step\n",
      "1/1 [==============================] - 4s 4s/step\n",
      "1/1 [==============================] - 3s 3s/step\n",
      "1/1 [==============================] - 3s 3s/step\n",
      "1/1 [==============================] - 4s 4s/step\n",
      "1/1 [==============================] - 3s 3s/step\n",
      "1/1 [==============================] - 3s 3s/step\n",
      "1/1 [==============================] - 3s 3s/step\n",
      "1/1 [==============================] - 3s 3s/step\n",
      "1/1 [==============================] - 4s 4s/step\n",
      "1/1 [==============================] - 3s 3s/step\n",
      "1/1 [==============================] - 3s 3s/step\n",
      "1/1 [==============================] - 4s 4s/step\n",
      "1/1 [==============================] - 4s 4s/step\n",
      "1/1 [==============================] - 4s 4s/step\n",
      "1/1 [==============================] - 4s 4s/step\n",
      "1/1 [==============================] - 3s 3s/step\n",
      "1/1 [==============================] - 3s 3s/step\n",
      "1/1 [==============================] - 3s 3s/step\n",
      "1/1 [==============================] - 3s 3s/step\n",
      "1/1 [==============================] - 4s 4s/step\n",
      "1/1 [==============================] - 4s 4s/step\n",
      "1/1 [==============================] - 4s 4s/step\n",
      "1/1 [==============================] - 4s 4s/step\n",
      "1/1 [==============================] - 4s 4s/step\n",
      "1/1 [==============================] - 4s 4s/step\n",
      "1/1 [==============================] - 4s 4s/step\n",
      "1/1 [==============================] - 4s 4s/step\n",
      "1/1 [==============================] - 4s 4s/step\n",
      "1/1 [==============================] - 4s 4s/step\n",
      "1/1 [==============================] - 4s 4s/step\n",
      "1/1 [==============================] - 4s 4s/step\n",
      "1/1 [==============================] - 4s 4s/step\n",
      "1/1 [==============================] - 4s 4s/step\n",
      "1/1 [==============================] - 4s 4s/step\n",
      "1/1 [==============================] - 4s 4s/step\n",
      "1/1 [==============================] - 4s 4s/step\n",
      "1/1 [==============================] - 4s 4s/step\n",
      "1/1 [==============================] - 4s 4s/step\n",
      "1/1 [==============================] - 4s 4s/step\n",
      "1/1 [==============================] - 4s 4s/step\n",
      "1/1 [==============================] - 4s 4s/step\n",
      "1/1 [==============================] - 4s 4s/step\n",
      "1/1 [==============================] - 4s 4s/step\n",
      "1/1 [==============================] - 4s 4s/step\n",
      "1/1 [==============================] - 4s 4s/step\n",
      "1/1 [==============================] - 4s 4s/step\n",
      "1/1 [==============================] - 4s 4s/step\n",
      "1/1 [==============================] - 4s 4s/step\n",
      "1/1 [==============================] - 4s 4s/step\n",
      "1/1 [==============================] - 4s 4s/step\n",
      "1/1 [==============================] - 4s 4s/step\n",
      "1/1 [==============================] - 4s 4s/step\n",
      "1/1 [==============================] - 4s 4s/step\n",
      "1/1 [==============================] - 4s 4s/step\n",
      "1/1 [==============================] - 4s 4s/step\n",
      "1/1 [==============================] - 4s 4s/step\n",
      "1/1 [==============================] - 4s 4s/step\n",
      "1/1 [==============================] - 4s 4s/step\n",
      "1/1 [==============================] - 4s 4s/step\n",
      "1/1 [==============================] - 2s 2s/step\n",
      "1/1 [==============================] - 4s 4s/step\n",
      "1/1 [==============================] - 4s 4s/step\n",
      "1/1 [==============================] - 4s 4s/step\n",
      "1/1 [==============================] - 4s 4s/step\n",
      "1/1 [==============================] - 4s 4s/step\n",
      "1/1 [==============================] - 4s 4s/step\n",
      "1/1 [==============================] - 4s 4s/step\n",
      "1/1 [==============================] - 4s 4s/step\n",
      "1/1 [==============================] - 4s 4s/step\n",
      "1/1 [==============================] - 4s 4s/step\n",
      "1/1 [==============================] - 4s 4s/step\n",
      "1/1 [==============================] - 4s 4s/step\n",
      "1/1 [==============================] - 4s 4s/step\n",
      "1/1 [==============================] - 4s 4s/step\n",
      "1/1 [==============================] - 4s 4s/step\n",
      "1/1 [==============================] - 4s 4s/step\n",
      "1/1 [==============================] - 4s 4s/step\n",
      "1/1 [==============================] - 4s 4s/step\n",
      "1/1 [==============================] - 4s 4s/step\n",
      "1/1 [==============================] - 4s 4s/step\n",
      "1/1 [==============================] - 4s 4s/step\n",
      "1/1 [==============================] - 4s 4s/step\n",
      "1/1 [==============================] - 4s 4s/step\n",
      "1/1 [==============================] - 4s 4s/step\n",
      "1/1 [==============================] - 4s 4s/step\n",
      "1/1 [==============================] - 4s 4s/step\n",
      "1/1 [==============================] - 4s 4s/step\n",
      "1/1 [==============================] - 4s 4s/step\n",
      "1/1 [==============================] - 4s 4s/step\n",
      "1/1 [==============================] - 4s 4s/step\n",
      "1/1 [==============================] - 4s 4s/step\n",
      "1/1 [==============================] - 1s 923ms/step\n",
      "1/1 [==============================] - 4s 4s/step\n",
      "1/1 [==============================] - 4s 4s/step\n",
      "1/1 [==============================] - 4s 4s/step\n",
      "1/1 [==============================] - 4s 4s/step\n",
      "1/1 [==============================] - 4s 4s/step\n",
      "1/1 [==============================] - 4s 4s/step\n",
      "1/1 [==============================] - 4s 4s/step\n",
      "1/1 [==============================] - 4s 4s/step\n",
      "1/1 [==============================] - 4s 4s/step\n",
      "1/1 [==============================] - 4s 4s/step\n",
      "1/1 [==============================] - 4s 4s/step\n",
      "1/1 [==============================] - 4s 4s/step\n",
      "1/1 [==============================] - 4s 4s/step\n",
      "1/1 [==============================] - 4s 4s/step\n",
      "1/1 [==============================] - 4s 4s/step\n",
      "1/1 [==============================] - 4s 4s/step\n",
      "1/1 [==============================] - 4s 4s/step\n",
      "1/1 [==============================] - 4s 4s/step\n",
      "1/1 [==============================] - 4s 4s/step\n",
      "1/1 [==============================] - 4s 4s/step\n",
      "1/1 [==============================] - 4s 4s/step\n",
      "1/1 [==============================] - 4s 4s/step\n",
      "1/1 [==============================] - 4s 4s/step\n",
      "1/1 [==============================] - 4s 4s/step\n",
      "1/1 [==============================] - 4s 4s/step\n",
      "1/1 [==============================] - 4s 4s/step\n",
      "1/1 [==============================] - 4s 4s/step\n",
      "1/1 [==============================] - 4s 4s/step\n",
      "1/1 [==============================] - 4s 4s/step\n",
      "1/1 [==============================] - 4s 4s/step\n",
      "1/1 [==============================] - 4s 4s/step\n",
      "1/1 [==============================] - 4s 4s/step\n",
      "1/1 [==============================] - 4s 4s/step\n",
      "1/1 [==============================] - 4s 4s/step\n",
      "1/1 [==============================] - 4s 4s/step\n",
      "1/1 [==============================] - 4s 4s/step\n",
      "1/1 [==============================] - 4s 4s/step\n",
      "1/1 [==============================] - 4s 4s/step\n",
      "1/1 [==============================] - 4s 4s/step\n",
      "1/1 [==============================] - 4s 4s/step\n",
      "1/1 [==============================] - 4s 4s/step\n",
      "1/1 [==============================] - 4s 4s/step\n",
      "1/1 [==============================] - 4s 4s/step\n",
      "1/1 [==============================] - 4s 4s/step\n",
      "1/1 [==============================] - 4s 4s/step\n",
      "1/1 [==============================] - 4s 4s/step\n",
      "1/1 [==============================] - 4s 4s/step\n",
      "1/1 [==============================] - 4s 4s/step\n",
      "1/1 [==============================] - 4s 4s/step\n",
      "1/1 [==============================] - 4s 4s/step\n",
      "1/1 [==============================] - 4s 4s/step\n",
      "1/1 [==============================] - 4s 4s/step\n",
      "1/1 [==============================] - 4s 4s/step\n",
      "1/1 [==============================] - 4s 4s/step\n",
      "1/1 [==============================] - 4s 4s/step\n",
      "1/1 [==============================] - 4s 4s/step\n",
      "1/1 [==============================] - 4s 4s/step\n",
      "1/1 [==============================] - 4s 4s/step\n",
      "1/1 [==============================] - 4s 4s/step\n",
      "1/1 [==============================] - 4s 4s/step\n",
      "1/1 [==============================] - 4s 4s/step\n",
      "1/1 [==============================] - 4s 4s/step\n",
      "1/1 [==============================] - 2s 2s/step\n"
     ]
    }
   ],
   "source": [
    "import numpy as np\n",
    "\n",
    "def get_features_and_labels(dataset):\n",
    "    all_features = []\n",
    "    all_labels = []\n",
    "    for images, labels in dataset:\n",
    "        preprocessed_images = keras.applications.vgg16.preprocess_input(images)\n",
    "        features = conv_base.predict(preprocessed_images)\n",
    "        all_features.append(features)\n",
    "        all_labels.append(labels)\n",
    "    return np.concatenate(all_features), np.concatenate(all_labels)\n",
    "\n",
    "train_features, train_labels =  get_features_and_labels(train_dataset)\n",
    "val_features, val_labels =  get_features_and_labels(validation_dataset)\n",
    "test_features, test_labels =  get_features_and_labels(test_dataset)"
   ]
  },
  {
   "cell_type": "code",
   "execution_count": 7,
   "metadata": {
    "colab_type": "code"
   },
   "outputs": [
    {
     "data": {
      "text/plain": [
       "(2000, 5, 5, 512)"
      ]
     },
     "execution_count": 7,
     "metadata": {},
     "output_type": "execute_result"
    }
   ],
   "source": [
    "train_features.shape"
   ]
  },
  {
   "cell_type": "markdown",
   "metadata": {},
   "source": [
    "These are 1000 images for each of the two classes, and then a 5x5 spatial matrix with a depth of 512 filters. \n",
    "**To the Student**: Compare these dimensions to the last layer of the VGG16 which generated it. "
   ]
  },
  {
   "cell_type": "markdown",
   "metadata": {},
   "source": [
    "Note that here we used VGG16 body as-is, without any additional training compared to the one done on imagenet. "
   ]
  },
  {
   "cell_type": "markdown",
   "metadata": {
    "colab_type": "text"
   },
   "source": [
    "**Defining and training the densely connected classifier**\n",
    "\n",
    "Here we define a new dense neural networks, of only two (neuronal/trainable) layers."
   ]
  },
  {
   "cell_type": "code",
   "execution_count": 8,
   "metadata": {},
   "outputs": [],
   "source": [
    "inputs = keras.Input(shape=(5, 5, 512))\n",
    "x = layers.Flatten()(inputs)\n",
    "x = layers.Dense(256)(x)\n",
    "x = layers.Dropout(0.5)(x)\n",
    "outputs = layers.Dense(1, activation=\"sigmoid\")(x)\n",
    "model = keras.Model(inputs, outputs)"
   ]
  },
  {
   "cell_type": "code",
   "execution_count": 9,
   "metadata": {},
   "outputs": [
    {
     "name": "stdout",
     "output_type": "stream",
     "text": [
      "Model: \"model\"\n",
      "_________________________________________________________________\n",
      " Layer (type)                Output Shape              Param #   \n",
      "=================================================================\n",
      " input_2 (InputLayer)        [(None, 5, 5, 512)]       0         \n",
      "                                                                 \n",
      " flatten (Flatten)           (None, 12800)             0         \n",
      "                                                                 \n",
      " dense (Dense)               (None, 256)               3277056   \n",
      "                                                                 \n",
      " dropout (Dropout)           (None, 256)               0         \n",
      "                                                                 \n",
      " dense_1 (Dense)             (None, 1)                 257       \n",
      "                                                                 \n",
      "=================================================================\n",
      "Total params: 3,277,313\n",
      "Trainable params: 3,277,313\n",
      "Non-trainable params: 0\n",
      "_________________________________________________________________\n"
     ]
    }
   ],
   "source": [
    "model.summary()"
   ]
  },
  {
   "cell_type": "markdown",
   "metadata": {},
   "source": [
    "While the network has only two layer, its number of parameter is significant compared to the previous networks we defined to address the dogs versus cats dataset before (they had about 1 million paramters). It is also a significant ratio of the VGG16 body which has about 15 million parameters. This is common in CNNs - the feature vector can be quick large (here its sizze is 12800 elements). A dense layer linearly increases the number of parameters with its size. Then, the last layer further increases it linearly proportionally to the number of classes. "
   ]
  },
  {
   "cell_type": "code",
   "execution_count": 10,
   "metadata": {
    "colab_type": "code"
   },
   "outputs": [
    {
     "name": "stdout",
     "output_type": "stream",
     "text": [
      "Epoch 1/20\n",
      "63/63 [==============================] - 2s 29ms/step - loss: 20.4125 - accuracy: 0.9245 - val_loss: 7.1586 - val_accuracy: 0.9490\n",
      "Epoch 2/20\n",
      "63/63 [==============================] - 2s 26ms/step - loss: 4.0181 - accuracy: 0.9755 - val_loss: 4.6326 - val_accuracy: 0.9650\n",
      "Epoch 3/20\n",
      "63/63 [==============================] - 2s 24ms/step - loss: 2.9445 - accuracy: 0.9815 - val_loss: 12.5438 - val_accuracy: 0.9440\n",
      "Epoch 4/20\n",
      "63/63 [==============================] - 2s 25ms/step - loss: 1.3623 - accuracy: 0.9900 - val_loss: 4.7353 - val_accuracy: 0.9780\n",
      "Epoch 5/20\n",
      "63/63 [==============================] - 2s 25ms/step - loss: 0.3835 - accuracy: 0.9960 - val_loss: 5.6902 - val_accuracy: 0.9700\n",
      "Epoch 6/20\n",
      "63/63 [==============================] - 2s 28ms/step - loss: 0.9459 - accuracy: 0.9895 - val_loss: 5.3442 - val_accuracy: 0.9690\n",
      "Epoch 7/20\n",
      "63/63 [==============================] - 2s 25ms/step - loss: 0.5199 - accuracy: 0.9940 - val_loss: 6.6800 - val_accuracy: 0.9720\n",
      "Epoch 8/20\n",
      "63/63 [==============================] - 2s 25ms/step - loss: 0.9867 - accuracy: 0.9950 - val_loss: 5.6017 - val_accuracy: 0.9750\n",
      "Epoch 9/20\n",
      "63/63 [==============================] - 2s 24ms/step - loss: 0.1682 - accuracy: 0.9965 - val_loss: 5.1148 - val_accuracy: 0.9770\n",
      "Epoch 10/20\n",
      "63/63 [==============================] - 2s 24ms/step - loss: 0.5063 - accuracy: 0.9955 - val_loss: 6.0690 - val_accuracy: 0.9760\n",
      "Epoch 11/20\n",
      "63/63 [==============================] - 2s 24ms/step - loss: 0.1226 - accuracy: 0.9975 - val_loss: 6.9289 - val_accuracy: 0.9740\n",
      "Epoch 12/20\n",
      "63/63 [==============================] - 2s 24ms/step - loss: 1.0099 - accuracy: 0.9950 - val_loss: 5.5347 - val_accuracy: 0.9750\n",
      "Epoch 13/20\n",
      "63/63 [==============================] - 2s 24ms/step - loss: 0.2557 - accuracy: 0.9980 - val_loss: 5.8488 - val_accuracy: 0.9700\n",
      "Epoch 14/20\n",
      "63/63 [==============================] - 2s 26ms/step - loss: 0.0209 - accuracy: 0.9995 - val_loss: 5.6344 - val_accuracy: 0.9700\n",
      "Epoch 15/20\n",
      "63/63 [==============================] - 2s 25ms/step - loss: 0.2273 - accuracy: 0.9980 - val_loss: 4.9872 - val_accuracy: 0.9780\n",
      "Epoch 16/20\n",
      "63/63 [==============================] - 2s 26ms/step - loss: 0.0395 - accuracy: 0.9990 - val_loss: 6.8827 - val_accuracy: 0.9730\n",
      "Epoch 17/20\n",
      "63/63 [==============================] - 2s 25ms/step - loss: 0.2098 - accuracy: 0.9980 - val_loss: 5.7554 - val_accuracy: 0.9790\n",
      "Epoch 18/20\n",
      "63/63 [==============================] - 2s 25ms/step - loss: 0.0091 - accuracy: 0.9990 - val_loss: 5.2112 - val_accuracy: 0.9790\n",
      "Epoch 19/20\n",
      "63/63 [==============================] - 2s 25ms/step - loss: 7.0895e-18 - accuracy: 1.0000 - val_loss: 5.2112 - val_accuracy: 0.9790\n",
      "Epoch 20/20\n",
      "63/63 [==============================] - 2s 27ms/step - loss: 8.2190e-30 - accuracy: 1.0000 - val_loss: 5.2112 - val_accuracy: 0.9790\n"
     ]
    }
   ],
   "source": [
    "model.compile(loss=\"binary_crossentropy\",\n",
    "              optimizer=\"rmsprop\",\n",
    "              metrics=[\"accuracy\"])\n",
    "\n",
    "callbacks = [\n",
    "    keras.callbacks.ModelCheckpoint(\n",
    "      filepath=\"./models/feature_extraction.keras\",\n",
    "      save_best_only=True,\n",
    "      monitor=\"val_loss\")\n",
    "]\n",
    "history = model.fit(\n",
    "    train_features, train_labels,\n",
    "    epochs=20,\n",
    "    validation_data=(val_features, val_labels),\n",
    "    callbacks=callbacks)"
   ]
  },
  {
   "cell_type": "markdown",
   "metadata": {
    "colab_type": "text"
   },
   "source": [
    "**Plotting the results**"
   ]
  },
  {
   "cell_type": "code",
   "execution_count": 11,
   "metadata": {
    "colab_type": "code"
   },
   "outputs": [
    {
     "data": {
      "image/png": "[encoded data removed]",
      "text/plain": [
       "<Figure size 640x480 with 1 Axes>"
      ]
     },
     "metadata": {},
     "output_type": "display_data"
    },
    {
     "data": {
      "image/png": "[encoded data removed]",
      "text/plain": [
       "<Figure size 640x480 with 1 Axes>"
      ]
     },
     "metadata": {},
     "output_type": "display_data"
    }
   ],
   "source": [
    "import matplotlib.pyplot as plt\n",
    "acc = history.history[\"accuracy\"]\n",
    "val_acc = history.history[\"val_accuracy\"]\n",
    "loss = history.history[\"loss\"]\n",
    "val_loss = history.history[\"val_loss\"]\n",
    "epochs = range(1, len(acc) + 1)\n",
    "plt.plot(epochs, acc, \"bo\", label=\"Training accuracy\")\n",
    "plt.plot(epochs, val_acc, \"b\", label=\"Validation accuracy\")\n",
    "plt.title(\"Training and validation accuracy\")\n",
    "plt.legend()\n",
    "plt.figure()\n",
    "plt.plot(epochs, loss, \"bo\", label=\"Training loss\")\n",
    "plt.plot(epochs, val_loss, \"b\", label=\"Validation loss\")\n",
    "plt.title(\"Training and validation loss\")\n",
    "plt.legend()\n",
    "plt.show()"
   ]
  },
  {
   "cell_type": "code",
   "execution_count": 14,
   "metadata": {},
   "outputs": [
    {
     "name": "stdout",
     "output_type": "stream",
     "text": [
      "63/63 [==============================] - 0s 4ms/step - loss: 5.8854 - accuracy: 0.9620\n",
      "Test accuracy: 0.962\n"
     ]
    }
   ],
   "source": [
    "test_model = keras.models.load_model(\n",
    "    \"./models/feature_extraction.keras\")\n",
    "test_loss, test_acc = test_model.evaluate(x=test_features, y=test_labels)\n",
    "print(f\"Test accuracy: {test_acc:.3f}\")"
   ]
  },
  {
   "cell_type": "markdown",
   "metadata": {
    "colab_type": "text"
   },
   "source": [
    "#### Feature extraction together with data augmentation"
   ]
  },
  {
   "cell_type": "markdown",
   "metadata": {
    "colab_type": "text"
   },
   "source": [
    "**Instantiating and freezing the VGG16 convolutional base**"
   ]
  },
  {
   "cell_type": "code",
   "execution_count": 22,
   "metadata": {
    "colab_type": "code"
   },
   "outputs": [],
   "source": [
    "conv_base  = keras.applications.vgg16.VGG16(\n",
    "    weights=\"imagenet\",\n",
    "    include_top=False)"
   ]
  },
  {
   "cell_type": "code",
   "execution_count": 23,
   "metadata": {},
   "outputs": [
    {
     "name": "stdout",
     "output_type": "stream",
     "text": [
      "Model: \"vgg16\"\n",
      "_________________________________________________________________\n",
      " Layer (type)                Output Shape              Param #   \n",
      "=================================================================\n",
      " input_5 (InputLayer)        [(None, None, None, 3)]   0         \n",
      "                                                                 \n",
      " block1_conv1 (Conv2D)       (None, None, None, 64)    1792      \n",
      "                                                                 \n",
      " block1_conv2 (Conv2D)       (None, None, None, 64)    36928     \n",
      "                                                                 \n",
      " block1_pool (MaxPooling2D)  (None, None, None, 64)    0         \n",
      "                                                                 \n",
      " block2_conv1 (Conv2D)       (None, None, None, 128)   73856     \n",
      "                                                                 \n",
      " block2_conv2 (Conv2D)       (None, None, None, 128)   147584    \n",
      "                                                                 \n",
      " block2_pool (MaxPooling2D)  (None, None, None, 128)   0         \n",
      "                                                                 \n",
      " block3_conv1 (Conv2D)       (None, None, None, 256)   295168    \n",
      "                                                                 \n",
      " block3_conv2 (Conv2D)       (None, None, None, 256)   590080    \n",
      "                                                                 \n",
      " block3_conv3 (Conv2D)       (None, None, None, 256)   590080    \n",
      "                                                                 \n",
      " block3_pool (MaxPooling2D)  (None, None, None, 256)   0         \n",
      "                                                                 \n",
      " block4_conv1 (Conv2D)       (None, None, None, 512)   1180160   \n",
      "                                                                 \n",
      " block4_conv2 (Conv2D)       (None, None, None, 512)   2359808   \n",
      "                                                                 \n",
      " block4_conv3 (Conv2D)       (None, None, None, 512)   2359808   \n",
      "                                                                 \n",
      " block4_pool (MaxPooling2D)  (None, None, None, 512)   0         \n",
      "                                                                 \n",
      " block5_conv1 (Conv2D)       (None, None, None, 512)   2359808   \n",
      "                                                                 \n",
      " block5_conv2 (Conv2D)       (None, None, None, 512)   2359808   \n",
      "                                                                 \n",
      " block5_conv3 (Conv2D)       (None, None, None, 512)   2359808   \n",
      "                                                                 \n",
      " block5_pool (MaxPooling2D)  (None, None, None, 512)   0         \n",
      "                                                                 \n",
      "=================================================================\n",
      "Total params: 14,714,688\n",
      "Trainable params: 14,714,688\n",
      "Non-trainable params: 0\n",
      "_________________________________________________________________\n"
     ]
    }
   ],
   "source": [
    "conv_base.summary()"
   ]
  },
  {
   "cell_type": "markdown",
   "metadata": {
    "colab_type": "text"
   },
   "source": [
    "**Printing the list of trainable weights before and after freezing**"
   ]
  },
  {
   "cell_type": "code",
   "execution_count": 27,
   "metadata": {},
   "outputs": [],
   "source": [
    "import tensorflow as tf"
   ]
  },
  {
   "cell_type": "markdown",
   "metadata": {},
   "source": [
    "The number of trainable weights after freezing the conv base:"
   ]
  },
  {
   "cell_type": "code",
   "execution_count": 32,
   "metadata": {},
   "outputs": [
    {
     "name": "stdout",
     "output_type": "stream",
     "text": [
      "Model: \"vgg16\"\n",
      "_________________________________________________________________\n",
      " Layer (type)                Output Shape              Param #   \n",
      "=================================================================\n",
      " input_5 (InputLayer)        [(None, None, None, 3)]   0         \n",
      "                                                                 \n",
      " block1_conv1 (Conv2D)       (None, None, None, 64)    1792      \n",
      "                                                                 \n",
      " block1_conv2 (Conv2D)       (None, None, None, 64)    36928     \n",
      "                                                                 \n",
      " block1_pool (MaxPooling2D)  (None, None, None, 64)    0         \n",
      "                                                                 \n",
      " block2_conv1 (Conv2D)       (None, None, None, 128)   73856     \n",
      "                                                                 \n",
      " block2_conv2 (Conv2D)       (None, None, None, 128)   147584    \n",
      "                                                                 \n",
      " block2_pool (MaxPooling2D)  (None, None, None, 128)   0         \n",
      "                                                                 \n",
      " block3_conv1 (Conv2D)       (None, None, None, 256)   295168    \n",
      "                                                                 \n",
      " block3_conv2 (Conv2D)       (None, None, None, 256)   590080    \n",
      "                                                                 \n",
      " block3_conv3 (Conv2D)       (None, None, None, 256)   590080    \n",
      "                                                                 \n",
      " block3_pool (MaxPooling2D)  (None, None, None, 256)   0         \n",
      "                                                                 \n",
      " block4_conv1 (Conv2D)       (None, None, None, 512)   1180160   \n",
      "                                                                 \n",
      " block4_conv2 (Conv2D)       (None, None, None, 512)   2359808   \n",
      "                                                                 \n",
      " block4_conv3 (Conv2D)       (None, None, None, 512)   2359808   \n",
      "                                                                 \n",
      " block4_pool (MaxPooling2D)  (None, None, None, 512)   0         \n",
      "                                                                 \n",
      " block5_conv1 (Conv2D)       (None, None, None, 512)   2359808   \n",
      "                                                                 \n",
      " block5_conv2 (Conv2D)       (None, None, None, 512)   2359808   \n",
      "                                                                 \n",
      " block5_conv3 (Conv2D)       (None, None, None, 512)   2359808   \n",
      "                                                                 \n",
      " block5_pool (MaxPooling2D)  (None, None, None, 512)   0         \n",
      "                                                                 \n",
      "=================================================================\n",
      "Total params: 14,714,688\n",
      "Trainable params: 0\n",
      "Non-trainable params: 14,714,688\n",
      "_________________________________________________________________\n"
     ]
    }
   ],
   "source": [
    "conv_base.trainable = False\n",
    "conv_base.summary()"
   ]
  },
  {
   "cell_type": "markdown",
   "metadata": {
    "colab_type": "text"
   },
   "source": [
    "**Adding a data augmentation stage and a classifier to the convolutional base**"
   ]
  },
  {
   "cell_type": "markdown",
   "metadata": {},
   "source": [
    "**To the Student**: Check what the `preprocess_input` method does."
   ]
  },
  {
   "cell_type": "code",
   "execution_count": 33,
   "metadata": {
    "colab_type": "code"
   },
   "outputs": [],
   "source": [
    "data_augmentation = keras.Sequential(\n",
    "    [\n",
    "        layers.RandomFlip(\"horizontal\"),\n",
    "        layers.RandomRotation(0.1),\n",
    "        layers.RandomZoom(0.2),\n",
    "    ]\n",
    ")\n",
    "\n",
    "inputs = keras.Input(shape=(180, 180, 3))\n",
    "x = data_augmentation(inputs)\n",
    "x = keras.applications.vgg16.preprocess_input(x)\n",
    "x = conv_base(x)\n",
    "x = layers.Flatten()(x)\n",
    "x = layers.Dense(256)(x)\n",
    "x = layers.Dropout(0.5)(x)\n",
    "outputs = layers.Dense(1, activation=\"sigmoid\")(x)\n",
    "model = keras.Model(inputs, outputs)"
   ]
  },
  {
   "cell_type": "code",
   "execution_count": 34,
   "metadata": {},
   "outputs": [
    {
     "name": "stdout",
     "output_type": "stream",
     "text": [
      "Model: \"model_1\"\n",
      "_________________________________________________________________\n",
      " Layer (type)                Output Shape              Param #   \n",
      "=================================================================\n",
      " input_6 (InputLayer)        [(None, 180, 180, 3)]     0         \n",
      "                                                                 \n",
      " sequential (Sequential)     (None, 180, 180, 3)       0         \n",
      "                                                                 \n",
      " tf.__operators__.getitem (S  (None, 180, 180, 3)      0         \n",
      " licingOpLambda)                                                 \n",
      "                                                                 \n",
      " tf.nn.bias_add (TFOpLambda)  (None, 180, 180, 3)      0         \n",
      "                                                                 \n",
      " vgg16 (Functional)          (None, None, None, 512)   14714688  \n",
      "                                                                 \n",
      " flatten_2 (Flatten)         (None, 12800)             0         \n",
      "                                                                 \n",
      " dense_2 (Dense)             (None, 256)               3277056   \n",
      "                                                                 \n",
      " dropout_1 (Dropout)         (None, 256)               0         \n",
      "                                                                 \n",
      " dense_3 (Dense)             (None, 1)                 257       \n",
      "                                                                 \n",
      "=================================================================\n",
      "Total params: 17,992,001\n",
      "Trainable params: 3,277,313\n",
      "Non-trainable params: 14,714,688\n",
      "_________________________________________________________________\n"
     ]
    }
   ],
   "source": [
    "model.summary()"
   ]
  },
  {
   "cell_type": "markdown",
   "metadata": {},
   "source": [
    "Note: running the cell below will take about 3-4 hours on a CPU."
   ]
  },
  {
   "cell_type": "code",
   "execution_count": 35,
   "metadata": {
    "colab_type": "code"
   },
   "outputs": [
    {
     "name": "stdout",
     "output_type": "stream",
     "text": [
      "Epoch 1/50\n",
      "63/63 [==============================] - 347s 6s/step - loss: 19.5388 - accuracy: 0.8930 - val_loss: 2.7956 - val_accuracy: 0.9740\n",
      "Epoch 2/50\n",
      "63/63 [==============================] - 341s 5s/step - loss: 6.1028 - accuracy: 0.9470 - val_loss: 2.7240 - val_accuracy: 0.9820\n",
      "Epoch 3/50\n",
      "63/63 [==============================] - 340s 5s/step - loss: 4.1450 - accuracy: 0.9605 - val_loss: 5.8096 - val_accuracy: 0.9730\n",
      "Epoch 4/50\n",
      "63/63 [==============================] - 368s 6s/step - loss: 6.5001 - accuracy: 0.9620 - val_loss: 4.5296 - val_accuracy: 0.9740\n",
      "Epoch 5/50\n",
      "63/63 [==============================] - 343s 5s/step - loss: 5.2252 - accuracy: 0.9585 - val_loss: 4.8635 - val_accuracy: 0.9700\n",
      "Epoch 6/50\n",
      "63/63 [==============================] - 327s 5s/step - loss: 5.3598 - accuracy: 0.9605 - val_loss: 5.1549 - val_accuracy: 0.9760\n",
      "Epoch 7/50\n",
      "63/63 [==============================] - 336s 5s/step - loss: 4.1430 - accuracy: 0.9720 - val_loss: 3.9013 - val_accuracy: 0.9770\n",
      "Epoch 8/50\n",
      "63/63 [==============================] - 333s 5s/step - loss: 3.7538 - accuracy: 0.9700 - val_loss: 3.4717 - val_accuracy: 0.9790\n",
      "Epoch 9/50\n",
      "63/63 [==============================] - 333s 5s/step - loss: 3.1533 - accuracy: 0.9730 - val_loss: 7.5685 - val_accuracy: 0.9610\n",
      "Epoch 10/50\n",
      "63/63 [==============================] - 331s 5s/step - loss: 3.0246 - accuracy: 0.9810 - val_loss: 3.8070 - val_accuracy: 0.9770\n",
      "Epoch 11/50\n",
      "63/63 [==============================] - 333s 5s/step - loss: 2.4857 - accuracy: 0.9750 - val_loss: 1.9789 - val_accuracy: 0.9820\n",
      "Epoch 12/50\n",
      "63/63 [==============================] - 332s 5s/step - loss: 2.5524 - accuracy: 0.9755 - val_loss: 2.8776 - val_accuracy: 0.9790\n",
      "Epoch 13/50\n",
      "63/63 [==============================] - 332s 5s/step - loss: 2.2784 - accuracy: 0.9795 - val_loss: 1.9696 - val_accuracy: 0.9820\n",
      "Epoch 14/50\n",
      "63/63 [==============================] - 332s 5s/step - loss: 1.6258 - accuracy: 0.9805 - val_loss: 2.5567 - val_accuracy: 0.9800\n",
      "Epoch 15/50\n",
      "63/63 [==============================] - 332s 5s/step - loss: 1.9631 - accuracy: 0.9800 - val_loss: 3.1621 - val_accuracy: 0.9760\n",
      "Epoch 16/50\n",
      "63/63 [==============================] - 333s 5s/step - loss: 1.5383 - accuracy: 0.9805 - val_loss: 2.6342 - val_accuracy: 0.9820\n",
      "Epoch 17/50\n",
      "63/63 [==============================] - 338s 5s/step - loss: 1.4450 - accuracy: 0.9875 - val_loss: 2.0476 - val_accuracy: 0.9800\n",
      "Epoch 18/50\n",
      "63/63 [==============================] - 333s 5s/step - loss: 1.7145 - accuracy: 0.9830 - val_loss: 2.3691 - val_accuracy: 0.9770\n",
      "Epoch 19/50\n",
      "63/63 [==============================] - 333s 5s/step - loss: 1.5780 - accuracy: 0.9800 - val_loss: 2.9837 - val_accuracy: 0.9800\n",
      "Epoch 20/50\n",
      "63/63 [==============================] - 334s 5s/step - loss: 1.2444 - accuracy: 0.9825 - val_loss: 2.2856 - val_accuracy: 0.9810\n",
      "Epoch 21/50\n",
      "63/63 [==============================] - 332s 5s/step - loss: 1.5098 - accuracy: 0.9825 - val_loss: 2.5166 - val_accuracy: 0.9770\n",
      "Epoch 22/50\n",
      "63/63 [==============================] - 334s 5s/step - loss: 1.3452 - accuracy: 0.9835 - val_loss: 2.5368 - val_accuracy: 0.9800\n",
      "Epoch 23/50\n",
      "63/63 [==============================] - 333s 5s/step - loss: 0.6694 - accuracy: 0.9890 - val_loss: 2.4963 - val_accuracy: 0.9790\n",
      "Epoch 24/50\n",
      "63/63 [==============================] - 333s 5s/step - loss: 1.2242 - accuracy: 0.9820 - val_loss: 3.4492 - val_accuracy: 0.9760\n",
      "Epoch 25/50\n",
      "63/63 [==============================] - 339s 5s/step - loss: 0.9982 - accuracy: 0.9820 - val_loss: 2.1169 - val_accuracy: 0.9830\n",
      "Epoch 26/50\n",
      "63/63 [==============================] - 333s 5s/step - loss: 1.0230 - accuracy: 0.9845 - val_loss: 1.9195 - val_accuracy: 0.9810\n",
      "Epoch 27/50\n",
      "63/63 [==============================] - 336s 5s/step - loss: 1.1179 - accuracy: 0.9835 - val_loss: 2.0883 - val_accuracy: 0.9820\n",
      "Epoch 28/50\n",
      "63/63 [==============================] - 343s 5s/step - loss: 0.8641 - accuracy: 0.9835 - val_loss: 2.1710 - val_accuracy: 0.9770\n",
      "Epoch 29/50\n",
      "63/63 [==============================] - 333s 5s/step - loss: 0.7502 - accuracy: 0.9855 - val_loss: 2.3120 - val_accuracy: 0.9830\n",
      "Epoch 30/50\n",
      "63/63 [==============================] - 333s 5s/step - loss: 0.6480 - accuracy: 0.9875 - val_loss: 2.0043 - val_accuracy: 0.9810\n",
      "Epoch 31/50\n",
      "63/63 [==============================] - 335s 5s/step - loss: 1.1120 - accuracy: 0.9865 - val_loss: 1.8536 - val_accuracy: 0.9800\n",
      "Epoch 32/50\n",
      "63/63 [==============================] - 333s 5s/step - loss: 0.8297 - accuracy: 0.9845 - val_loss: 2.6552 - val_accuracy: 0.9810\n",
      "Epoch 33/50\n",
      "63/63 [==============================] - 332s 5s/step - loss: 0.5062 - accuracy: 0.9870 - val_loss: 1.5815 - val_accuracy: 0.9850\n",
      "Epoch 34/50\n",
      "63/63 [==============================] - 334s 5s/step - loss: 0.6803 - accuracy: 0.9860 - val_loss: 2.5051 - val_accuracy: 0.9730\n",
      "Epoch 35/50\n",
      "63/63 [==============================] - 332s 5s/step - loss: 1.2788 - accuracy: 0.9805 - val_loss: 1.6476 - val_accuracy: 0.9830\n",
      "Epoch 36/50\n",
      "63/63 [==============================] - 333s 5s/step - loss: 0.3646 - accuracy: 0.9925 - val_loss: 1.6088 - val_accuracy: 0.9860\n",
      "Epoch 37/50\n",
      "63/63 [==============================] - 332s 5s/step - loss: 0.3913 - accuracy: 0.9940 - val_loss: 1.9723 - val_accuracy: 0.9800\n",
      "Epoch 38/50\n",
      "63/63 [==============================] - 334s 5s/step - loss: 0.2866 - accuracy: 0.9900 - val_loss: 2.1110 - val_accuracy: 0.9820\n",
      "Epoch 39/50\n",
      "63/63 [==============================] - 334s 5s/step - loss: 0.4621 - accuracy: 0.9875 - val_loss: 2.7488 - val_accuracy: 0.9790\n",
      "Epoch 40/50\n",
      "63/63 [==============================] - 333s 5s/step - loss: 0.5419 - accuracy: 0.9905 - val_loss: 1.9285 - val_accuracy: 0.9820\n",
      "Epoch 41/50\n",
      "63/63 [==============================] - 334s 5s/step - loss: 0.7159 - accuracy: 0.9865 - val_loss: 2.4082 - val_accuracy: 0.9790\n",
      "Epoch 42/50\n",
      "63/63 [==============================] - 333s 5s/step - loss: 0.5049 - accuracy: 0.9875 - val_loss: 1.7294 - val_accuracy: 0.9830\n",
      "Epoch 43/50\n",
      "63/63 [==============================] - 336s 5s/step - loss: 0.3628 - accuracy: 0.9915 - val_loss: 3.0526 - val_accuracy: 0.9720\n",
      "Epoch 44/50\n",
      "63/63 [==============================] - 334s 5s/step - loss: 0.3965 - accuracy: 0.9910 - val_loss: 1.5192 - val_accuracy: 0.9820\n",
      "Epoch 45/50\n",
      "63/63 [==============================] - 333s 5s/step - loss: 0.3991 - accuracy: 0.9910 - val_loss: 2.1578 - val_accuracy: 0.9810\n",
      "Epoch 46/50\n",
      "63/63 [==============================] - 333s 5s/step - loss: 0.4181 - accuracy: 0.9895 - val_loss: 1.5156 - val_accuracy: 0.9860\n",
      "Epoch 47/50\n",
      "63/63 [==============================] - 333s 5s/step - loss: 0.6299 - accuracy: 0.9855 - val_loss: 1.6609 - val_accuracy: 0.9850\n",
      "Epoch 48/50\n",
      "63/63 [==============================] - 332s 5s/step - loss: 0.6681 - accuracy: 0.9865 - val_loss: 2.0615 - val_accuracy: 0.9830\n",
      "Epoch 49/50\n",
      "63/63 [==============================] - 334s 5s/step - loss: 0.4460 - accuracy: 0.9905 - val_loss: 2.2877 - val_accuracy: 0.9780\n",
      "Epoch 50/50\n",
      "63/63 [==============================] - 333s 5s/step - loss: 0.6360 - accuracy: 0.9880 - val_loss: 2.2232 - val_accuracy: 0.9820\n"
     ]
    }
   ],
   "source": [
    "model.compile(loss=\"binary_crossentropy\",\n",
    "              optimizer=\"rmsprop\",\n",
    "              metrics=[\"accuracy\"])\n",
    "\n",
    "callbacks = [\n",
    "    keras.callbacks.ModelCheckpoint(\n",
    "        filepath=\"./models/feature_extraction_with_data_augmentation.keras\",\n",
    "        save_best_only=True,\n",
    "        monitor=\"val_loss\")\n",
    "]\n",
    "history = model.fit(\n",
    "    train_dataset,\n",
    "    epochs=50,\n",
    "    validation_data=validation_dataset,\n",
    "    callbacks=callbacks)"
   ]
  },
  {
   "cell_type": "code",
   "execution_count": 36,
   "metadata": {},
   "outputs": [
    {
     "data": {
      "image/png": "[encoded data removed]",
      "text/plain": [
       "<Figure size 640x480 with 1 Axes>"
      ]
     },
     "metadata": {},
     "output_type": "display_data"
    },
    {
     "data": {
      "image/png": "[encoded data removed]",
      "text/plain": [
       "<Figure size 640x480 with 1 Axes>"
      ]
     },
     "metadata": {},
     "output_type": "display_data"
    }
   ],
   "source": [
    "acc = history.history[\"accuracy\"]\n",
    "val_acc = history.history[\"val_accuracy\"]\n",
    "loss = history.history[\"loss\"]\n",
    "val_loss = history.history[\"val_loss\"]\n",
    "epochs = range(1, len(acc) + 1)\n",
    "plt.plot(epochs, acc, \"bo\", label=\"Training accuracy\")\n",
    "plt.plot(epochs, val_acc, \"b\", label=\"Validation accuracy\")\n",
    "plt.title(\"Training and validation accuracy\")\n",
    "plt.legend()\n",
    "plt.figure()\n",
    "plt.plot(epochs, loss, \"bo\", label=\"Training loss\")\n",
    "plt.plot(epochs, val_loss, \"b\", label=\"Validation loss\")\n",
    "plt.title(\"Training and validation loss\")\n",
    "plt.legend()\n",
    "plt.show()"
   ]
  },
  {
   "cell_type": "markdown",
   "metadata": {
    "colab_type": "text"
   },
   "source": [
    "**Evaluating the model on the test set**"
   ]
  },
  {
   "cell_type": "code",
   "execution_count": 37,
   "metadata": {
    "colab_type": "code"
   },
   "outputs": [
    {
     "name": "stdout",
     "output_type": "stream",
     "text": [
      "63/63 [==============================] - 145s 2s/step - loss: 2.3313 - accuracy: 0.9750\n",
      "Test accuracy: 0.975\n"
     ]
    }
   ],
   "source": [
    "test_model = keras.models.load_model(\n",
    "    \"./models/feature_extraction_with_data_augmentation.keras\")\n",
    "test_loss, test_acc = test_model.evaluate(test_dataset)\n",
    "print(f\"Test accuracy: {test_acc:.3f}\")"
   ]
  },
  {
   "cell_type": "markdown",
   "metadata": {
    "colab_type": "text"
   },
   "source": [
    "### Fine-tuning a pretrained model"
   ]
  },
  {
   "cell_type": "code",
   "execution_count": 38,
   "metadata": {
    "colab_type": "code"
   },
   "outputs": [
    {
     "name": "stdout",
     "output_type": "stream",
     "text": [
      "Model: \"vgg16\"\n",
      "_________________________________________________________________\n",
      " Layer (type)                Output Shape              Param #   \n",
      "=================================================================\n",
      " input_5 (InputLayer)        [(None, None, None, 3)]   0         \n",
      "                                                                 \n",
      " block1_conv1 (Conv2D)       (None, None, None, 64)    1792      \n",
      "                                                                 \n",
      " block1_conv2 (Conv2D)       (None, None, None, 64)    36928     \n",
      "                                                                 \n",
      " block1_pool (MaxPooling2D)  (None, None, None, 64)    0         \n",
      "                                                                 \n",
      " block2_conv1 (Conv2D)       (None, None, None, 128)   73856     \n",
      "                                                                 \n",
      " block2_conv2 (Conv2D)       (None, None, None, 128)   147584    \n",
      "                                                                 \n",
      " block2_pool (MaxPooling2D)  (None, None, None, 128)   0         \n",
      "                                                                 \n",
      " block3_conv1 (Conv2D)       (None, None, None, 256)   295168    \n",
      "                                                                 \n",
      " block3_conv2 (Conv2D)       (None, None, None, 256)   590080    \n",
      "                                                                 \n",
      " block3_conv3 (Conv2D)       (None, None, None, 256)   590080    \n",
      "                                                                 \n",
      " block3_pool (MaxPooling2D)  (None, None, None, 256)   0         \n",
      "                                                                 \n",
      " block4_conv1 (Conv2D)       (None, None, None, 512)   1180160   \n",
      "                                                                 \n",
      " block4_conv2 (Conv2D)       (None, None, None, 512)   2359808   \n",
      "                                                                 \n",
      " block4_conv3 (Conv2D)       (None, None, None, 512)   2359808   \n",
      "                                                                 \n",
      " block4_pool (MaxPooling2D)  (None, None, None, 512)   0         \n",
      "                                                                 \n",
      " block5_conv1 (Conv2D)       (None, None, None, 512)   2359808   \n",
      "                                                                 \n",
      " block5_conv2 (Conv2D)       (None, None, None, 512)   2359808   \n",
      "                                                                 \n",
      " block5_conv3 (Conv2D)       (None, None, None, 512)   2359808   \n",
      "                                                                 \n",
      " block5_pool (MaxPooling2D)  (None, None, None, 512)   0         \n",
      "                                                                 \n",
      "=================================================================\n",
      "Total params: 14,714,688\n",
      "Trainable params: 0\n",
      "Non-trainable params: 14,714,688\n",
      "_________________________________________________________________\n"
     ]
    }
   ],
   "source": [
    "conv_base.summary()"
   ]
  },
  {
   "cell_type": "markdown",
   "metadata": {
    "colab_type": "text"
   },
   "source": [
    "**Freezing all layers until the fourth from the last**"
   ]
  },
  {
   "cell_type": "code",
   "execution_count": 39,
   "metadata": {
    "colab_type": "code"
   },
   "outputs": [],
   "source": [
    "conv_base.trainable = True\n",
    "for layer in conv_base.layers[:-4]:\n",
    "    layer.trainable = False"
   ]
  },
  {
   "cell_type": "code",
   "execution_count": 40,
   "metadata": {},
   "outputs": [
    {
     "name": "stdout",
     "output_type": "stream",
     "text": [
      "Model: \"model_1\"\n",
      "_________________________________________________________________\n",
      " Layer (type)                Output Shape              Param #   \n",
      "=================================================================\n",
      " input_6 (InputLayer)        [(None, 180, 180, 3)]     0         \n",
      "                                                                 \n",
      " sequential (Sequential)     (None, 180, 180, 3)       0         \n",
      "                                                                 \n",
      " tf.__operators__.getitem (S  (None, 180, 180, 3)      0         \n",
      " licingOpLambda)                                                 \n",
      "                                                                 \n",
      " tf.nn.bias_add (TFOpLambda)  (None, 180, 180, 3)      0         \n",
      "                                                                 \n",
      " vgg16 (Functional)          (None, None, None, 512)   14714688  \n",
      "                                                                 \n",
      " flatten_2 (Flatten)         (None, 12800)             0         \n",
      "                                                                 \n",
      " dense_2 (Dense)             (None, 256)               3277056   \n",
      "                                                                 \n",
      " dropout_1 (Dropout)         (None, 256)               0         \n",
      "                                                                 \n",
      " dense_3 (Dense)             (None, 1)                 257       \n",
      "                                                                 \n",
      "=================================================================\n",
      "Total params: 17,992,001\n",
      "Trainable params: 10,356,737\n",
      "Non-trainable params: 7,635,264\n",
      "_________________________________________________________________\n"
     ]
    }
   ],
   "source": [
    "model.summary()"
   ]
  },
  {
   "cell_type": "markdown",
   "metadata": {
    "colab_type": "text"
   },
   "source": [
    "**Fine-tuning the model**"
   ]
  },
  {
   "cell_type": "markdown",
   "metadata": {},
   "source": [
    "Running the following cell on a CPU might take 4 hours."
   ]
  },
  {
   "cell_type": "code",
   "execution_count": 41,
   "metadata": {
    "colab_type": "code"
   },
   "outputs": [
    {
     "name": "stdout",
     "output_type": "stream",
     "text": [
      "Epoch 1/30\n",
      "63/63 [==============================] - 388s 6s/step - loss: 0.6219 - accuracy: 0.9870 - val_loss: 1.4987 - val_accuracy: 0.9830\n",
      "Epoch 2/30\n",
      "63/63 [==============================] - 384s 6s/step - loss: 0.4389 - accuracy: 0.9885 - val_loss: 1.4816 - val_accuracy: 0.9850\n",
      "Epoch 3/30\n",
      "63/63 [==============================] - 385s 6s/step - loss: 0.2554 - accuracy: 0.9930 - val_loss: 2.4533 - val_accuracy: 0.9770\n",
      "Epoch 4/30\n",
      "63/63 [==============================] - 384s 6s/step - loss: 0.3393 - accuracy: 0.9905 - val_loss: 1.9685 - val_accuracy: 0.9830\n",
      "Epoch 5/30\n",
      "63/63 [==============================] - 427s 7s/step - loss: 0.4968 - accuracy: 0.9895 - val_loss: 1.8870 - val_accuracy: 0.9820\n",
      "Epoch 6/30\n",
      "63/63 [==============================] - 407s 6s/step - loss: 0.3325 - accuracy: 0.9920 - val_loss: 1.4735 - val_accuracy: 0.9820\n",
      "Epoch 7/30\n",
      "63/63 [==============================] - 404s 6s/step - loss: 0.2670 - accuracy: 0.9915 - val_loss: 1.4573 - val_accuracy: 0.9790\n",
      "Epoch 8/30\n",
      "63/63 [==============================] - 403s 6s/step - loss: 0.3139 - accuracy: 0.9920 - val_loss: 1.8874 - val_accuracy: 0.9760\n",
      "Epoch 9/30\n",
      "63/63 [==============================] - 430s 7s/step - loss: 0.1973 - accuracy: 0.9940 - val_loss: 1.4223 - val_accuracy: 0.9820\n",
      "Epoch 10/30\n",
      "63/63 [==============================] - 429s 7s/step - loss: 0.3991 - accuracy: 0.9925 - val_loss: 2.0955 - val_accuracy: 0.9810\n",
      "Epoch 11/30\n",
      "63/63 [==============================] - 441s 7s/step - loss: 0.2524 - accuracy: 0.9925 - val_loss: 1.8644 - val_accuracy: 0.9790\n",
      "Epoch 12/30\n",
      "63/63 [==============================] - 429s 7s/step - loss: 0.1822 - accuracy: 0.9940 - val_loss: 2.4113 - val_accuracy: 0.9730\n",
      "Epoch 13/30\n",
      "63/63 [==============================] - 419s 7s/step - loss: 0.3213 - accuracy: 0.9925 - val_loss: 1.7203 - val_accuracy: 0.9790\n",
      "Epoch 14/30\n",
      "63/63 [==============================] - 416s 7s/step - loss: 0.2157 - accuracy: 0.9925 - val_loss: 1.3998 - val_accuracy: 0.9820\n",
      "Epoch 15/30\n",
      "63/63 [==============================] - 421s 7s/step - loss: 0.1651 - accuracy: 0.9945 - val_loss: 1.7495 - val_accuracy: 0.9790\n",
      "Epoch 16/30\n",
      "63/63 [==============================] - 421s 7s/step - loss: 0.2121 - accuracy: 0.9945 - val_loss: 1.4041 - val_accuracy: 0.9810\n",
      "Epoch 17/30\n",
      "63/63 [==============================] - 413s 7s/step - loss: 0.1370 - accuracy: 0.9950 - val_loss: 1.4657 - val_accuracy: 0.9840\n",
      "Epoch 18/30\n",
      "63/63 [==============================] - 398s 6s/step - loss: 0.1481 - accuracy: 0.9960 - val_loss: 1.2434 - val_accuracy: 0.9850\n",
      "Epoch 19/30\n",
      "63/63 [==============================] - 475s 8s/step - loss: 0.1316 - accuracy: 0.9965 - val_loss: 1.2796 - val_accuracy: 0.9840\n",
      "Epoch 20/30\n",
      "63/63 [==============================] - 486s 8s/step - loss: 0.1096 - accuracy: 0.9970 - val_loss: 1.4174 - val_accuracy: 0.9830\n",
      "Epoch 21/30\n",
      "63/63 [==============================] - 505s 8s/step - loss: 0.1891 - accuracy: 0.9945 - val_loss: 1.4963 - val_accuracy: 0.9830\n",
      "Epoch 22/30\n",
      "63/63 [==============================] - 426s 7s/step - loss: 0.1596 - accuracy: 0.9940 - val_loss: 1.3536 - val_accuracy: 0.9860\n",
      "Epoch 23/30\n",
      "63/63 [==============================] - 470s 7s/step - loss: 0.0424 - accuracy: 0.9975 - val_loss: 1.3319 - val_accuracy: 0.9830\n",
      "Epoch 24/30\n",
      "63/63 [==============================] - 481s 8s/step - loss: 0.1616 - accuracy: 0.9940 - val_loss: 1.2473 - val_accuracy: 0.9870\n",
      "Epoch 25/30\n",
      "63/63 [==============================] - 401s 6s/step - loss: 0.0391 - accuracy: 0.9970 - val_loss: 1.4333 - val_accuracy: 0.9840\n",
      "Epoch 26/30\n",
      "63/63 [==============================] - 378s 6s/step - loss: 0.0701 - accuracy: 0.9950 - val_loss: 1.3181 - val_accuracy: 0.9850\n",
      "Epoch 27/30\n",
      "63/63 [==============================] - 389s 6s/step - loss: 0.0472 - accuracy: 0.9985 - val_loss: 1.5702 - val_accuracy: 0.9840\n",
      "Epoch 28/30\n",
      "63/63 [==============================] - 390s 6s/step - loss: 0.1010 - accuracy: 0.9965 - val_loss: 1.3511 - val_accuracy: 0.9870\n",
      "Epoch 29/30\n",
      "63/63 [==============================] - 406s 6s/step - loss: 0.0476 - accuracy: 0.9975 - val_loss: 2.0270 - val_accuracy: 0.9790\n",
      "Epoch 30/30\n",
      "63/63 [==============================] - 390s 6s/step - loss: 0.0598 - accuracy: 0.9970 - val_loss: 1.6271 - val_accuracy: 0.9840\n"
     ]
    }
   ],
   "source": [
    "model.compile(loss=\"binary_crossentropy\",\n",
    "              optimizer=keras.optimizers.RMSprop(learning_rate=1e-5),\n",
    "              metrics=[\"accuracy\"])\n",
    "\n",
    "callbacks = [\n",
    "    keras.callbacks.ModelCheckpoint(\n",
    "        filepath=\"./models/fine_tuning.keras\",\n",
    "        save_best_only=True,\n",
    "        monitor=\"val_loss\")\n",
    "]\n",
    "history = model.fit(\n",
    "    train_dataset,\n",
    "    epochs=30,\n",
    "    validation_data=validation_dataset,\n",
    "    callbacks=callbacks)"
   ]
  },
  {
   "cell_type": "code",
   "execution_count": 42,
   "metadata": {},
   "outputs": [
    {
     "data": {
      "image/png": "[encoded data removed]",
      "text/plain": [
       "<Figure size 640x480 with 1 Axes>"
      ]
     },
     "metadata": {},
     "output_type": "display_data"
    },
    {
     "data": {
      "image/png": "[encoded data removed]",
      "text/plain": [
       "<Figure size 640x480 with 1 Axes>"
      ]
     },
     "metadata": {},
     "output_type": "display_data"
    }
   ],
   "source": [
    "acc = history.history[\"accuracy\"]\n",
    "val_acc = history.history[\"val_accuracy\"]\n",
    "loss = history.history[\"loss\"]\n",
    "val_loss = history.history[\"val_loss\"]\n",
    "epochs = range(1, len(acc) + 1)\n",
    "plt.plot(epochs, acc, \"bo\", label=\"Training accuracy\")\n",
    "plt.plot(epochs, val_acc, \"b\", label=\"Validation accuracy\")\n",
    "plt.title(\"Training and validation accuracy\")\n",
    "plt.legend()\n",
    "plt.figure()\n",
    "plt.plot(epochs, loss, \"bo\", label=\"Training loss\")\n",
    "plt.plot(epochs, val_loss, \"b\", label=\"Validation loss\")\n",
    "plt.title(\"Training and validation loss\")\n",
    "plt.legend()\n",
    "plt.show()"
   ]
  },
  {
   "cell_type": "code",
   "execution_count": 43,
   "metadata": {
    "colab_type": "code"
   },
   "outputs": [
    {
     "name": "stdout",
     "output_type": "stream",
     "text": [
      "63/63 [==============================] - 232s 4s/step - loss: 1.6949 - accuracy: 0.9800\n",
      "Test accuracy: 0.980\n"
     ]
    }
   ],
   "source": [
    "model = keras.models.load_model(\"./models/fine_tuning.keras\")\n",
    "test_loss, test_acc = model.evaluate(test_dataset)\n",
    "print(f\"Test accuracy: {test_acc:.3f}\")"
   ]
  },
  {
   "cell_type": "code",
   "execution_count": null,
   "metadata": {},
   "outputs": [],
   "source": []
  }
 ],
 "metadata": {
  "colab": {
   "collapsed_sections": [],
   "name": "chapter08_intro-to-dl-for-computer-vision.i",
   "private_outputs": false,
   "provenance": [],
   "toc_visible": true
  },
  "kernelspec": {
   "display_name": "tensorflow_cpu",
   "language": "python",
   "name": "tensorflow_cpu"
  },
  "language_info": {
   "codemirror_mode": {
    "name": "ipython",
    "version": 3
   },
   "file_extension": ".py",
   "mimetype": "text/x-python",
   "name": "python",
   "nbconvert_exporter": "python",
   "pygments_lexer": "ipython3",
   "version": "3.11.3"
  }
 },
 "nbformat": 4,
 "nbformat_minor": 0
}
