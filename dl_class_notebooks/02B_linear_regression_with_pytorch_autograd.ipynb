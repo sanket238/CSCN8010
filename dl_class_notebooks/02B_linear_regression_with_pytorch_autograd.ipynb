{
 "cells": [
  {
   "attachments": {},
   "cell_type": "markdown",
   "metadata": {},
   "source": [
    "This notebook presents the same linear regression problem as before, and with the same input data, but this time, we are going to utilize `autograd` - a PyTorch abstraction for automatically calculating gradients.\n",
    "\n",
    "The key difference between the previous notebook and this one, is the way the gradient is calculated and applied to the parameters. In the previous notebook, the gradient was hand-coded by analytically deriving two partial derivatives. Instead, here we use `autograd` - PyTorch's automatic gradient calculation. This becomes _very_ handy for deep neural networks. \n",
    "\n",
    "The key concepts are:\n",
    "* Computational Graph\n",
    "* Chain Rule\n",
    "* Backward-pass and Backpropagation\n",
    "\n",
    "The key technical aspect is:\n",
    "* Know how to use `loss.backward()`, `optimizer.step` and `optimizer.zero_grad` in a training loop.\n"
   ]
  },
  {
   "attachments": {},
   "cell_type": "markdown",
   "metadata": {},
   "source": [
    "Before going over the notebook, let's have a look at these links to gain some context about a computational graph, the chain rule and `autograd`:\n",
    "* [A gentle introduction to torch.autograd](https://pytorch.org/tutorials/beginner/blitz/autograd_tutorial.html) (with a simple example, and an example of a computational graph)\n",
    "* [Chain Rule - Khan Academy](https://www.khanacademy.org/math/ap-calculus-ab/ab-differentiation-2-new/ab-3-1a/a/chain-rule-review)\n",
    "\n",
    "This is an additional resource about `autograd`: \n",
    "* [Automatic differentiation with torch.autograd](https://pytorch.org/tutorials/beginner/basics/autogradqs_tutorial.html)"
   ]
  },
  {
   "attachments": {},
   "cell_type": "markdown",
   "metadata": {},
   "source": [
    "A key takeawy from the links above is that `autograd` is an implementation of the chain rule over a computational graph, which is a collection of the tensor operations, in the order of their execution. "
   ]
  },
  {
   "cell_type": "code",
   "execution_count": 1,
   "metadata": {},
   "outputs": [],
   "source": [
    "import torch\n",
    "import torch.optim as optim\n",
    "import matplotlib.pyplot as plt\n",
    "import helpers as h\n",
    "from math import floor, ceil"
   ]
  },
  {
   "cell_type": "code",
   "execution_count": 2,
   "metadata": {},
   "outputs": [
    {
     "data": {
      "text/plain": [
       "<torch._C.Generator at 0x1c61db50570>"
      ]
     },
     "execution_count": 2,
     "metadata": {},
     "output_type": "execute_result"
    }
   ],
   "source": [
    "# Set the random seed for reproducibility\n",
    "torch.manual_seed(42)"
   ]
  },
  {
   "attachments": {},
   "cell_type": "markdown",
   "metadata": {},
   "source": [
    "### Generating the Input Data\n",
    "Each instance (data entry) represents a point in a two-dimensional space $(x_i,y_i)$. The data points are generated around a line defined by its slope and intercept with the y-axis (at $x=0$). The x-values are chosen randomly from a given range. The y-values are generated according to the $x$ and the linear equation, with a random uniform noise around it.   "
   ]
  },
  {
   "cell_type": "code",
   "execution_count": 3,
   "metadata": {},
   "outputs": [],
   "source": [
    "NUMBER_OF_DATA_POINTS = 4\n",
    "X_RANGE = {\n",
    "    'min': 0.,\n",
    "    'max': 2.\n",
    "}\n",
    "SLOPE = 3\n",
    "INTERCEPT = 4\n",
    "NOISE_RANGE = 1.5\n",
    "\n",
    "def generate_data(\n",
    "    x_range:dict[str, float]=X_RANGE,\n",
    "    number_of_data_points:int=NUMBER_OF_DATA_POINTS,\n",
    "    slope:float=SLOPE,\n",
    "    intercept:float=INTERCEPT,\n",
    "    noise_range:float=NOISE_RANGE\n",
    "    ) -> tuple[torch.Tensor, torch.Tensor]:\n",
    "    \"\"\"\n",
    "    Generates data for linear regression.\n",
    "    \"\"\"\n",
    "    range = X_RANGE['max'] - X_RANGE['min']\n",
    "    X = x_range['min'] + (range * torch.rand(size=(number_of_data_points, 1)))  # randomly-generated x-values, taken from a uniform distribution within `x_range`\n",
    "    y = intercept + (slope * X) + (((torch.rand(size=(number_of_data_points, 1)) - 0.5) * 2) * noise_range)  # y-values with uniformaliy distributed noise added\n",
    "    return X, y\n",
    "\n",
    "X, y = generate_data()"
   ]
  },
  {
   "cell_type": "code",
   "execution_count": 4,
   "metadata": {},
   "outputs": [
    {
     "name": "stdout",
     "output_type": "stream",
     "text": [
      "tensor([[1.7645],\n",
      "        [1.8300],\n",
      "        [0.7657],\n",
      "        [1.9186]])\n",
      "Dimension    2\n",
      "Shape        (4, 1)\n"
     ]
    }
   ],
   "source": [
    "h.print_tensor_info(X, fields=['Tensor', 'Dimension', 'Shape'])"
   ]
  },
  {
   "attachments": {},
   "cell_type": "markdown",
   "metadata": {},
   "source": [
    "Note: the order of data dimensions\n",
    "\n",
    "Generally, PyTorch and Tensorflow operations expect their input to be ordered in an 'inward' manner. The `X` tensor above was defined according to that: the  $0^{th}$ axis represents the number of instances (batch_size), and the $1^{th}$ axis holds the features. Following the same logic, for image data, the order of the data would have been `(batch size, height, width, channel)` (a channel is one of the values of a color model, such as red in RGB). The number of instances, is generally represented by the 0th dimension. Note that in PyTorch and Tensorflow, the order can have an implication on how the data is arragned in memory, from the 'inside-out' (as the outout of a Tensor `flatten` operation)."
   ]
  },
  {
   "cell_type": "code",
   "execution_count": 5,
   "metadata": {},
   "outputs": [
    {
     "name": "stdout",
     "output_type": "stream",
     "text": [
      "tensor([[ 8.9650],\n",
      "        [ 9.7927],\n",
      "        [ 5.5669],\n",
      "        [10.6368]])\n",
      "Dimension    2\n",
      "Shape        (4, 1)\n"
     ]
    }
   ],
   "source": [
    "h.print_tensor_info(y, fields=['Tensor', 'Dimension', 'Shape'])"
   ]
  },
  {
   "cell_type": "code",
   "execution_count": 6,
   "metadata": {},
   "outputs": [
    {
     "data": {
      "image/png": "[encoded data removed]",
      "text/plain": [
       "<Figure size 640x480 with 1 Axes>"
      ]
     },
     "metadata": {},
     "output_type": "display_data"
    }
   ],
   "source": [
    "def plot_data_points(X, y):\n",
    "    plt.plot(X, y.detach().numpy(), \"b.\")\n",
    "    plt.xlabel(\"$x_1$\")\n",
    "    plt.ylabel(\"$y$\", rotation=0)\n",
    "    plt.title(\"Data Points (instances)\")\n",
    "    plt.axis([X_RANGE['min'], X_RANGE['max'], floor(y.min()), ceil(y.max())])\n",
    "    plt.grid()\n",
    "    plt.show()\n",
    "    return\n",
    "\n",
    "plot_data_points(X, y)"
   ]
  },
  {
   "attachments": {},
   "cell_type": "markdown",
   "metadata": {},
   "source": [
    "### Preprocessing the Data\n",
    "\n",
    "Now we are adding a dummy input parameter, that is equal to one for all instances: $x_0=1$.\n",
    "This will allow us to use a single matrix multiplication for the equation $y =  w_0*1 + w_1*x_1$. It  is the genric form of a 1-dimensional linear equation. \n",
    "\n",
    "(for additional optional context, see: [scikit-learn](https://scikit-learn.org/stable/modules/generated/sklearn.preprocessing.add_dummy_feature.html))"
   ]
  },
  {
   "cell_type": "code",
   "execution_count": 7,
   "metadata": {},
   "outputs": [],
   "source": [
    "X_extended = torch.cat((torch.full(X.shape, 1), X), 1)"
   ]
  },
  {
   "cell_type": "code",
   "execution_count": 8,
   "metadata": {},
   "outputs": [
    {
     "name": "stdout",
     "output_type": "stream",
     "text": [
      "tensor([[1.0000, 1.7645],\n",
      "        [1.0000, 1.8300],\n",
      "        [1.0000, 0.7657],\n",
      "        [1.0000, 1.9186]])\n",
      "Dimension    2\n",
      "Shape        (4, 2)\n"
     ]
    }
   ],
   "source": [
    "h.print_tensor_info(X_extended, fields=['Tensor', 'Dimension', 'Shape'])"
   ]
  },
  {
   "attachments": {},
   "cell_type": "markdown",
   "metadata": {},
   "source": [
    "### Defining the Model\n",
    "Now we can define the parameters: $w_0$ and $w_1$ of the linear equation.\n",
    "The linear equation is $y = w_0*x_0 + w_1*x_1$ (in a matrix notation: $y = X @ W$)."
   ]
  },
  {
   "cell_type": "code",
   "execution_count": 9,
   "metadata": {},
   "outputs": [],
   "source": [
    "def model(X, W):\n",
    "    return X @ W"
   ]
  },
  {
   "attachments": {},
   "cell_type": "markdown",
   "metadata": {},
   "source": [
    "Let's define the $W$ tensor and initalize its values.\n",
    "\n",
    "**Note that compared to the previous notebook, here we add `required_grad` to let PyTorch know that this is a parameter that the loss function should have its gradient calculated with respect to this parameter (more on this below).**"
   ]
  },
  {
   "cell_type": "code",
   "execution_count": 10,
   "metadata": {},
   "outputs": [],
   "source": [
    "W = torch.tensor([[1.], [2.]], requires_grad=True)"
   ]
  },
  {
   "cell_type": "code",
   "execution_count": 11,
   "metadata": {},
   "outputs": [
    {
     "name": "stdout",
     "output_type": "stream",
     "text": [
      "tensor([[1.],\n",
      "        [2.]], requires_grad=True)\n",
      "Dimension    2\n",
      "Shape        (2, 1)\n"
     ]
    }
   ],
   "source": [
    "h.print_tensor_info(W, fields=['Tensor', 'Dimension', 'Shape'])"
   ]
  },
  {
   "cell_type": "code",
   "execution_count": 12,
   "metadata": {},
   "outputs": [],
   "source": [
    "def predict(X: torch.Tensor, W: torch.Tensor, is_preprocessed:bool=False) -> torch.Tensor:\n",
    "    \"\"\"\n",
    "    Calculates the value of a linear function (defined by the parameters W), at points X.\n",
    "    Parameters:\n",
    "    ----------\n",
    "    X: torch tensor of shape (number_of_points_to_predict, 1), representing the x-values of the points to predict\n",
    "    W: torch tensor of shape (2, 1), representing the parameters of the linear function w_0 and w_1\n",
    "    is_preprocessed: bool, indicating whether the data has been preprocessed (i.e. whether the first column of X has been set to 1)\n",
    "    Returns:\n",
    "    -------\n",
    "    y_predicted: a torch tensor of shape (number_of_points_to_predict, 1), representing the predicted y-values of the points according to the linear function\n",
    "    \"\"\"\n",
    "    if is_preprocessed:\n",
    "        X_extended = X\n",
    "    else:\n",
    "        X_extended = torch.cat((torch.full(X.shape, 1), X), 1)  # preprocess\n",
    "    y_predicted = model(X_extended, W)\n",
    "    return y_predicted"
   ]
  },
  {
   "cell_type": "code",
   "execution_count": 13,
   "metadata": {},
   "outputs": [],
   "source": [
    "y_predicted = predict(X_extended, W, is_preprocessed=True)"
   ]
  },
  {
   "cell_type": "code",
   "execution_count": 14,
   "metadata": {},
   "outputs": [
    {
     "name": "stdout",
     "output_type": "stream",
     "text": [
      "tensor([[4.5291],\n",
      "        [4.6600],\n",
      "        [2.5315],\n",
      "        [4.8372]], grad_fn=<MmBackward0>)\n",
      "Dimension    2\n",
      "Shape        (4, 1)\n"
     ]
    }
   ],
   "source": [
    "h.print_tensor_info(y_predicted, fields=['Tensor', 'Dimension', 'Shape'])"
   ]
  },
  {
   "cell_type": "code",
   "execution_count": 15,
   "metadata": {},
   "outputs": [
    {
     "data": {
      "image/png": "[encoded data removed]",
      "text/plain": [
       "<Figure size 640x480 with 1 Axes>"
      ]
     },
     "metadata": {},
     "output_type": "display_data"
    }
   ],
   "source": [
    "plot_data_points(X, y_predicted)"
   ]
  },
  {
   "attachments": {},
   "cell_type": "markdown",
   "metadata": {},
   "source": [
    "### Setting up a Loss Function\n",
    "A loss function represents the value to be optimized.\n",
    "\n",
    "Loss function measures the degree of dissimilarity of obtained result to the target value, and it is the loss function that we want to minimize during training. To calculate the loss we make a prediction using the inputs of our given data sample and compare it against the true data label value.\n",
    "\n",
    "To visualize it, let's plot the data points and the predictions on the same graph: "
   ]
  },
  {
   "cell_type": "code",
   "execution_count": 16,
   "metadata": {},
   "outputs": [
    {
     "data": {
      "image/png": "[encoded data removed]",
      "text/plain": [
       "<Figure size 640x480 with 1 Axes>"
      ]
     },
     "metadata": {},
     "output_type": "display_data"
    }
   ],
   "source": [
    "plt.plot(X, y_predicted.detach().numpy(), \"r.\", label=\"Predictions\")\n",
    "plt.plot(X, y, \"b.\", label=\"Data\")\n",
    "\n",
    "plt.xlabel(\"$x_1$\")\n",
    "plt.ylabel(\"$y$\", rotation=0)\n",
    "plt.axis([X_RANGE['min'], X_RANGE['max'], 0, 15])\n",
    "plt.grid()\n",
    "plt.legend(loc=\"upper left\")\n",
    "\n",
    "plt.show()"
   ]
  },
  {
   "attachments": {},
   "cell_type": "markdown",
   "metadata": {},
   "source": [
    "The loss function we are going to use is the mean squared error (MSE):\n",
    "\n",
    "$\\frac{1}{m}*\\sum_{n=1} ^{m} (y_{predicted, n} - y_n)^2$"
   ]
  },
  {
   "cell_type": "code",
   "execution_count": 17,
   "metadata": {},
   "outputs": [],
   "source": [
    "def loss_fn(y_predicted, y):\n",
    "    mse = ((y_predicted - y) ** 2).mean()  # mean squared error. This is equivalent to: torch.sum((y_predicted - y)**2)/y.numel()\n",
    "    return mse"
   ]
  },
  {
   "attachments": {},
   "cell_type": "markdown",
   "metadata": {},
   "source": [
    "The MSE calculation can be broken down into two stages:\n",
    "1. Calculating the square of eachof the differences of the predicted minus the expected value\n",
    "2. Calculating the mean of these squares, across all data instances in the batch\n",
    "\n",
    "Here are these two stages:"
   ]
  },
  {
   "cell_type": "code",
   "execution_count": 18,
   "metadata": {},
   "outputs": [
    {
     "name": "stdout",
     "output_type": "stream",
     "text": [
      "Squared error per instance:\n",
      "tensor([[19.6771],\n",
      "        [26.3445],\n",
      "        [ 9.2139],\n",
      "        [33.6346]], grad_fn=<PowBackward0>)\n"
     ]
    }
   ],
   "source": [
    "print('Squared error per instance:')\n",
    "print((y_predicted - y)**2)"
   ]
  },
  {
   "cell_type": "code",
   "execution_count": 19,
   "metadata": {},
   "outputs": [
    {
     "name": "stdout",
     "output_type": "stream",
     "text": [
      "MSE: 22.22\n"
     ]
    }
   ],
   "source": [
    "mse = torch.sum((y_predicted - y)**2)/y.numel()  # here we calculate the the mean based on the sum and number of elements in `y`\n",
    "print(f'MSE: {mse:.4}')"
   ]
  },
  {
   "cell_type": "code",
   "execution_count": 20,
   "metadata": {},
   "outputs": [
    {
     "name": "stdout",
     "output_type": "stream",
     "text": [
      "MSE: 22.22\n"
     ]
    }
   ],
   "source": [
    "loss = loss_fn(y_predicted, y)\n",
    "print(f'MSE: {loss:.4}')"
   ]
  },
  {
   "cell_type": "code",
   "execution_count": 21,
   "metadata": {},
   "outputs": [
    {
     "name": "stdout",
     "output_type": "stream",
     "text": [
      "22.217533111572266\n",
      "Dimension    0\n",
      "Shape        ()\n"
     ]
    }
   ],
   "source": [
    "h.print_tensor_info(loss, fields=['Tensor', 'Dimension', 'Shape'])"
   ]
  },
  {
   "attachments": {},
   "cell_type": "markdown",
   "metadata": {},
   "source": [
    "### Optimization\n",
    "**The key difference between the previous notebook and this one, is the way the gradient is calculated and applied to the parameters. In the previous notebook, the gradient was hand-coded by analytically deriving two partial derivatives. Instead, here we use PyTorch's automatic gradient calculation.**\n",
    "\n",
    "Optimization is the process of adjusting model parameters to reduce model error in each training step. Optimization algorithms define how this process is performed (in this example we use Stochastic Gradient Descent). All optimization logic is encapsulated in the optimizer object. Here, we use the `SGD` optimizer; additionally, there are many [different optimizers](https://pytorch.org/docs/stable/optim.html) available in PyTorch such as `ADAM` and `RMSProp`, that work better for different kinds of models and data.\n",
    "\n",
    "We initialize the optimizer by registering the model’s parameters that need to be trained, and passing in the learning rate hyperparameter. "
   ]
  },
  {
   "cell_type": "code",
   "execution_count": 22,
   "metadata": {},
   "outputs": [
    {
     "name": "stdout",
     "output_type": "stream",
     "text": [
      "Learning Rate: 0.01\n"
     ]
    }
   ],
   "source": [
    "lr = 0.01\n",
    "print(f'Learning Rate: {lr:.4}')"
   ]
  },
  {
   "cell_type": "code",
   "execution_count": 23,
   "metadata": {},
   "outputs": [],
   "source": [
    "optimizer = optim.SGD([W], lr=lr)"
   ]
  },
  {
   "attachments": {},
   "cell_type": "markdown",
   "metadata": {},
   "source": [
    "#### Running a single iteration of the gradient descent optimization\n",
    "A gradient descent optimization is iterative, running for some epoches, before it potentially converges. Before running the gradient descent optimization over many iterations, let's run only a single iteration and take a look at the before/after values of the predictions ($y_predicted$) and parameters ($W$)."
   ]
  },
  {
   "attachments": {},
   "cell_type": "markdown",
   "metadata": {},
   "source": [
    "Each iteration has three steps: \n",
    "1. Calculate the loss\n",
    "2. Backward-pass: Calculate the gradients for each of the parameters\n",
    "3. Update the parameters"
   ]
  },
  {
   "attachments": {},
   "cell_type": "markdown",
   "metadata": {},
   "source": [
    "As we've seen above, the values of loss, the predictions, the parameters and their gradient are:"
   ]
  },
  {
   "cell_type": "code",
   "execution_count": 24,
   "metadata": {},
   "outputs": [
    {
     "name": "stdout",
     "output_type": "stream",
     "text": [
      "The values of the predicted y-values:\n",
      "tensor([[4.5291],\n",
      "        [4.6600],\n",
      "        [2.5315],\n",
      "        [4.8372]], grad_fn=<MmBackward0>)\n",
      "\n",
      "\n",
      "The loss tensor:\n",
      "tensor(22.2175, grad_fn=<MeanBackward0>)\n",
      "\n",
      "\n",
      "The parameters, the W tensor:\n",
      "tensor([[1.],\n",
      "        [2.]], requires_grad=True)\n",
      "\n",
      "\n",
      "The value of the gradient of the loss function with respect to the parameters W:\n",
      "None\n"
     ]
    }
   ],
   "source": [
    "print('The values of the predicted y-values:')\n",
    "print(y_predicted)\n",
    "print('\\n')\n",
    "print('The loss tensor:')\n",
    "print(loss)\n",
    "print('\\n')\n",
    "print('The parameters, the W tensor:')\n",
    "print(W)\n",
    "print('\\n')\n",
    "print('The value of the gradient of the loss function with respect to the parameters W:')\n",
    "print(W.grad)"
   ]
  },
  {
   "attachments": {},
   "cell_type": "markdown",
   "metadata": {},
   "source": [
    "##### Backward-pass\n",
    "In the backward-pass we calculate the gradient of the loss function with respect to the parameters W. \n",
    "This is done by calling the `backward()` method on the loss tensor. \n",
    "This will calculate the gradient of the loss function with respect to the parameters W, and store it in the `grad` field of the W tensor."
   ]
  },
  {
   "cell_type": "code",
   "execution_count": 25,
   "metadata": {},
   "outputs": [],
   "source": [
    "loss.backward()"
   ]
  },
  {
   "attachments": {},
   "cell_type": "markdown",
   "metadata": {},
   "source": [
    "What was the action of this operation? Let's see below:"
   ]
  },
  {
   "cell_type": "code",
   "execution_count": 26,
   "metadata": {},
   "outputs": [
    {
     "name": "stdout",
     "output_type": "stream",
     "text": [
      "The loss tensor:\n",
      "tensor(22.2175, grad_fn=<MeanBackward0>)\n",
      "\n",
      "\n",
      "The parameters, the W tensor:\n",
      "tensor([[1.],\n",
      "        [2.]], requires_grad=True)\n",
      "\n",
      "\n",
      "The value of the gradient of the loss function with respect to the parameters W is:\n",
      "tensor([[ -9.2018],\n",
      "        [-15.3358]])\n"
     ]
    }
   ],
   "source": [
    "print('The loss tensor:')\n",
    "print(loss)\n",
    "print('\\n')\n",
    "print('The parameters, the W tensor:')\n",
    "print(W)\n",
    "print('\\n')\n",
    "print('The value of the gradient of the loss function with respect to the parameters W is:')\n",
    "print(W.grad)\n"
   ]
  },
  {
   "attachments": {},
   "cell_type": "markdown",
   "metadata": {},
   "source": [
    " Note that only the `grad` attribute was updated, but the values of the parameters (and of the loss function) haven't been affected."
   ]
  },
  {
   "attachments": {},
   "cell_type": "markdown",
   "metadata": {},
   "source": [
    "##### Update the parameters\n",
    "In the next step we can actually apply the gradients calculated above, using the optimizer.\n",
    "\n",
    "All tensors that are part of the same computational graph as the loss function, and has `requires_grad=True` are being updated according to the optimizer. "
   ]
  },
  {
   "cell_type": "code",
   "execution_count": 27,
   "metadata": {},
   "outputs": [],
   "source": [
    "optimizer.step()"
   ]
  },
  {
   "attachments": {},
   "cell_type": "markdown",
   "metadata": {},
   "source": [
    "As seen below, the values of the parameters were updated.\n",
    "Also note that the values of the gradients were not re-initialized, and their values haven't changed."
   ]
  },
  {
   "cell_type": "code",
   "execution_count": 28,
   "metadata": {},
   "outputs": [
    {
     "name": "stdout",
     "output_type": "stream",
     "text": [
      "The loss tensor:\n",
      "tensor(22.2175, grad_fn=<MeanBackward0>)\n",
      "\n",
      "\n",
      "The parameters, the W tensor:\n",
      "tensor([[1.0920],\n",
      "        [2.1534]], requires_grad=True)\n",
      "\n",
      "\n",
      "The value of the gradient of the loss function with respect to the parameters W is:\n",
      "tensor([[ -9.2018],\n",
      "        [-15.3358]])\n"
     ]
    }
   ],
   "source": [
    "print('The loss tensor:')\n",
    "print(loss)\n",
    "print('\\n')\n",
    "print('The parameters, the W tensor:')\n",
    "print(W)\n",
    "print('\\n')\n",
    "print('The value of the gradient of the loss function with respect to the parameters W is:')\n",
    "print(W.grad)"
   ]
  },
  {
   "attachments": {},
   "cell_type": "markdown",
   "metadata": {},
   "source": [
    "We can see above that values of `w_0` and `w_1` moved in the direction of the optimal solution (which we know based on the way we created the data) "
   ]
  },
  {
   "attachments": {},
   "cell_type": "markdown",
   "metadata": {},
   "source": [
    "#### Running a second iteration\n",
    "In the cell below we run a second iteration, following the first one above. \n",
    "Notice that it includes two steps:\n",
    "1. Reset the gradient to zero. If we were to skip the gradient reset to zero, gradients will be accumulated across multiple iterations. This is not desired, as we want to calculate the gradient for each iteration seperatly. Otherwise, previous gradients (that are not longer relevant for the updated parameters' values) will be taken into account. (the value of the gradient before the first iteration was `None`. The difference between `None` and `0` is subtle, see the [zero_grad docstring](https://pytorch.org/docs/stable/generated/torch.optim.Optimizer.zero_grad.html)).\n",
    "2. Redefine the predictions (y_predicted) and loss. Question for you, the reader: Why is this needed? You can try running the code without the redefinition and see what happens.\n",
    "\n",
    "Note: The PyTorch model is dynamic - the graph is recreated from scratch. After each `.backward()` call, autograd starts populating a new graph. This is exactly what allows you to use control flow statements in your model; you can change the shape, size and operations at every iteration if needed. ([source](https://pytorch.org/tutorials/beginner/basics/autogradqs_tutorial.html#more-on-computational-graphs))"
   ]
  },
  {
   "cell_type": "code",
   "execution_count": 29,
   "metadata": {},
   "outputs": [],
   "source": [
    "optimizer.zero_grad()  # reset the gradients to zero, otherwise they will accumulate\n",
    "y_predicted = model(X_extended, W)  # redefining/recalculating y_predicted, with the parametric values updated by the optimizer in the previous step\n",
    "loss = loss_fn(y_predicted, y)  # redefining/recalculating the loss, with the updated y_predicted\n",
    "loss.backward()\n",
    "optimizer.step()"
   ]
  },
  {
   "cell_type": "code",
   "execution_count": 30,
   "metadata": {},
   "outputs": [
    {
     "name": "stdout",
     "output_type": "stream",
     "text": [
      "tensor([[1.1774],\n",
      "        [2.2956]], requires_grad=True)\n",
      "tensor([[ -8.5363],\n",
      "        [-14.2241]])\n"
     ]
    }
   ],
   "source": [
    "print(W)\n",
    "print(W.grad)"
   ]
  },
  {
   "attachments": {},
   "cell_type": "markdown",
   "metadata": {},
   "source": [
    "#### Iterative Optimization\n",
    "Next, the optimization process runs iteratively. "
   ]
  },
  {
   "cell_type": "code",
   "execution_count": 31,
   "metadata": {},
   "outputs": [],
   "source": [
    "def training_loop(n_epochs:int, optimizer:torch.optim.Optimizer, W:torch.Tensor, X:torch.Tensor, y:torch.Tensor)->torch.Tensor:\n",
    "    \"\"\"\n",
    "    Iteratively train a linear model, by updating the parameters W, using the optimizer, for n_epochs.\n",
    "    Parameters:\n",
    "    ----------\n",
    "    n_epochs: int, the number of epochs to train the model for.\n",
    "    optimizer: an optimizer object, used to update the parameters W.\n",
    "    W: torch tensor of shape (2, 1), representing the parameters of the linear function w_0 and w_1, for the current iteration.\n",
    "    X: torch tensor of shape (number_of_points_to_predict, 1), representing the x-values of the input data points (the instances).\n",
    "    y: torch tensor of shape (number_of_points_to_predict, 1), representing the true y-values of the input data points.\n",
    "    Returns:\n",
    "    -------\n",
    "    W: torch tensor of shape (2, 1), representing the parameters of the linear function w_0 and w_1, after training.\n",
    "    \"\"\"\n",
    "    for epoch in range(1, n_epochs + 1):\n",
    "        y_predicted = model(X, W) \n",
    "        loss = loss_fn(y_predicted, y)\n",
    "        \n",
    "        optimizer.zero_grad()\n",
    "        loss.backward()\n",
    "        optimizer.step()\n",
    "\n",
    "        if epoch % 10 == 0:\n",
    "            print('Epoch %d, Loss %f' % (epoch, float(loss)))\n",
    "    return W"
   ]
  },
  {
   "cell_type": "code",
   "execution_count": 32,
   "metadata": {},
   "outputs": [
    {
     "name": "stdout",
     "output_type": "stream",
     "text": [
      "Epoch 10, Loss 4.362111\n",
      "Epoch 20, Loss 1.079108\n",
      "Epoch 30, Loss 0.349494\n",
      "Epoch 40, Loss 0.187327\n",
      "Epoch 50, Loss 0.151264\n",
      "Epoch 60, Loss 0.143228\n",
      "Epoch 70, Loss 0.141420\n",
      "Epoch 80, Loss 0.140996\n",
      "Epoch 90, Loss 0.140882\n",
      "Epoch 100, Loss 0.140836\n"
     ]
    }
   ],
   "source": [
    "W = training_loop(n_epochs=100, optimizer=optimizer, W=W, X=X_extended, y=y)"
   ]
  },
  {
   "cell_type": "code",
   "execution_count": 33,
   "metadata": {},
   "outputs": [
    {
     "data": {
      "text/plain": [
       "tensor([[2.2825],\n",
       "        [4.1082]], requires_grad=True)"
      ]
     },
     "execution_count": 33,
     "metadata": {},
     "output_type": "execute_result"
    }
   ],
   "source": [
    "W"
   ]
  },
  {
   "cell_type": "code",
   "execution_count": 34,
   "metadata": {},
   "outputs": [],
   "source": [
    "y_predicted = model(X_extended, W)"
   ]
  },
  {
   "cell_type": "code",
   "execution_count": 35,
   "metadata": {},
   "outputs": [
    {
     "data": {
      "image/png": "[encoded data removed]",
      "text/plain": [
       "<Figure size 640x480 with 1 Axes>"
      ]
     },
     "metadata": {},
     "output_type": "display_data"
    }
   ],
   "source": [
    "plt.plot(X, y_predicted.detach().numpy(), \"r.\", label=\"Predictions\")\n",
    "plt.plot(X, y, \"b.\", label=\"Data\")\n",
    "\n",
    "plt.xlabel(\"$x_1$\")\n",
    "plt.ylabel(\"$y$\", rotation=0)\n",
    "plt.axis([0, 2, 0, 15])\n",
    "plt.grid()\n",
    "plt.legend(loc=\"upper left\")\n",
    "\n",
    "plt.show()"
   ]
  },
  {
   "cell_type": "code",
   "execution_count": 36,
   "metadata": {},
   "outputs": [
    {
     "data": {
      "text/plain": [
       "tensor([[ 8.9650],\n",
       "        [ 9.7927],\n",
       "        [ 5.5669],\n",
       "        [10.6368]])"
      ]
     },
     "execution_count": 36,
     "metadata": {},
     "output_type": "execute_result"
    }
   ],
   "source": [
    "y"
   ]
  },
  {
   "cell_type": "code",
   "execution_count": 37,
   "metadata": {},
   "outputs": [
    {
     "data": {
      "text/plain": [
       "tensor([[ 9.5316],\n",
       "        [ 9.8006],\n",
       "        [ 5.4283],\n",
       "        [10.1646]], grad_fn=<MmBackward0>)"
      ]
     },
     "execution_count": 37,
     "metadata": {},
     "output_type": "execute_result"
    }
   ],
   "source": [
    "y_predicted"
   ]
  },
  {
   "cell_type": "code",
   "execution_count": 38,
   "metadata": {},
   "outputs": [
    {
     "data": {
      "text/plain": [
       "tensor([[ 0.5667],\n",
       "        [ 0.0079],\n",
       "        [-0.1386],\n",
       "        [-0.4722]], grad_fn=<SubBackward0>)"
      ]
     },
     "execution_count": 38,
     "metadata": {},
     "output_type": "execute_result"
    }
   ],
   "source": [
    "y_predicted - y"
   ]
  },
  {
   "cell_type": "code",
   "execution_count": null,
   "metadata": {},
   "outputs": [],
   "source": []
  }
 ],
 "metadata": {
  "kernelspec": {
   "display_name": "pytorch_cpu",
   "language": "python",
   "name": "python3"
  },
  "language_info": {
   "codemirror_mode": {
    "name": "ipython",
    "version": 3
   },
   "file_extension": ".py",
   "mimetype": "text/x-python",
   "name": "python",
   "nbconvert_exporter": "python",
   "pygments_lexer": "ipython3",
   "version": "3.11.3"
  },
  "orig_nbformat": 4,
  "vscode": {
   "interpreter": {
    "hash": "ea445e1515f943d2885e4730ea69ace15b02c78ac5cd5be2a495018cd89fb42d"
   }
  }
 },
 "nbformat": 4,
 "nbformat_minor": 2
}
