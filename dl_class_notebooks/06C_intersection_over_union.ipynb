{
 "cells": [
  {
   "cell_type": "markdown",
   "metadata": {},
   "source": [
    "# Intersection over Union (IoU)\n",
    "\n",
    "Intersection over Union (IoU) is also known as Jaccard Index, have a look at Wikipedia for a great explanation - [Wikipedia](https://en.wikipedia.org/wiki/Jaccard_index)"
   ]
  },
  {
   "cell_type": "code",
   "execution_count": 30,
   "metadata": {},
   "outputs": [],
   "source": [
    "import numpy as np\n",
    "import tensorflow as tf\n",
    "import matplotlib.pyplot as plt\n",
    "import keras_cv"
   ]
  },
  {
   "cell_type": "code",
   "execution_count": 31,
   "metadata": {},
   "outputs": [],
   "source": [
    "# Define the bounding boxes\n",
    "box1 = np.array([50, 50, 100, 100])  # [x1, y1, x2, y2]\n",
    "box2 = np.array([75, 75, 150, 150])  # [x1, y1, x2, y2]"
   ]
  },
  {
   "cell_type": "code",
   "execution_count": 32,
   "metadata": {},
   "outputs": [],
   "source": [
    "# Calculate the intersection and union\n",
    "x1 = max(box1[0], box2[0])\n",
    "y1 = max(box1[1], box2[1])\n",
    "x2 = min(box1[2], box2[2])\n",
    "y2 = min(box1[3], box2[3])\n",
    "intersection = max(0, x2 - x1) * max(0, y2 - y1)\n",
    "area1 = (box1[2] - box1[0]) * (box1[3] - box1[1])\n",
    "area2 = (box2[2] - box2[0]) * (box2[3] - box2[1])\n",
    "union = area1 + area2 - intersection"
   ]
  },
  {
   "cell_type": "code",
   "execution_count": 33,
   "metadata": {},
   "outputs": [],
   "source": [
    "# Calculate the IoU\n",
    "iou = intersection / union"
   ]
  },
  {
   "cell_type": "code",
   "execution_count": 34,
   "metadata": {},
   "outputs": [
    {
     "data": {
      "image/png": "[encoded data removed]",
      "text/plain": [
       "<Figure size 640x480 with 1 Axes>"
      ]
     },
     "metadata": {},
     "output_type": "display_data"
    }
   ],
   "source": [
    "# Plot the bounding boxes and intersection/union\n",
    "fig, ax = plt.subplots()\n",
    "rect1 = plt.Rectangle((box1[0], box1[1]), box1[2] - box1[0], box1[3] - box1[1], linewidth=1, edgecolor='r', facecolor='none')\n",
    "rect2 = plt.Rectangle((box2[0], box2[1]), box2[2] - box2[0], box2[3] - box2[1], linewidth=1, edgecolor='b', facecolor='none')\n",
    "ax.add_patch(rect1)\n",
    "ax.add_patch(rect2)\n",
    "plt.title('Intersection over Union (IoU)')\n",
    "plt.plot([x1, x2], [y1, y1], linewidth=1, color='k')\n",
    "plt.plot([x1, x2], [y2, y2], linewidth=1, color='k')\n",
    "plt.plot([x1, x1], [y1, y2], linewidth=1, color='k')\n",
    "plt.plot([x2, x2], [y1, y2], linewidth=1, color='k')\n",
    "plt.text(0.5 * (box1[0] + box1[2]), box1[1] - 10, 'Ground Truth Area = %d' % area1, horizontalalignment='center', verticalalignment='top', fontsize=12, color='r')\n",
    "plt.text(0.5 * (box2[0] + box2[2]), box2[1] - 10, 'Prediction Area = %d' % area2, horizontalalignment='center', verticalalignment='top', fontsize=12, color='b')\n",
    "plt.text(40, 130, f'Intersection = {intersection}', fontsize=10, color='k')\n",
    "plt.text(40, 120, f'Union = {union}', fontsize=10, color='k')\n",
    "plt.text(40, 110, f'IoU = {iou:.3f}', fontsize=10, color='k')\n",
    "plt.text(100, 110, f'False Positive', fontsize=10, color='b')\n",
    "plt.text(60, 60, f'False Negative', fontsize=10, color='r')\n",
    "plt.text(78, 80, f'True Positive', fontsize=10, color='k')\n",
    "plt.axis('off')\n",
    "plt.show()"
   ]
  },
  {
   "cell_type": "markdown",
   "metadata": {},
   "source": [
    "### Implementation with Keras\n",
    "\n",
    "#### Detection (bounding boxes) input\n",
    "\n",
    "To calculate the IoU for bounding boxes, with the coordinate of the edges, kerascv [compute_iou](https://keras.io/api/keras_cv/bounding_box/utils/compute_iou/) will do."
   ]
  },
  {
   "cell_type": "code",
   "execution_count": 35,
   "metadata": {},
   "outputs": [
    {
     "data": {
      "text/plain": [
       "array([[ 50,  50, 100, 100]])"
      ]
     },
     "execution_count": 35,
     "metadata": {},
     "output_type": "execute_result"
    }
   ],
   "source": [
    "# wrap box1 in axis 0 to make it a batch of size 1\n",
    "box1 = np.expand_dims(box1, axis=0)\n",
    "box1"
   ]
  },
  {
   "cell_type": "code",
   "execution_count": 36,
   "metadata": {},
   "outputs": [
    {
     "data": {
      "text/plain": [
       "array([[ 75,  75, 150, 150]])"
      ]
     },
     "execution_count": 36,
     "metadata": {},
     "output_type": "execute_result"
    }
   ],
   "source": [
    "# wrap box1 in axis 0 to make it a batch of size 1\n",
    "box2 = np.expand_dims(box2, axis=0)\n",
    "box2"
   ]
  },
  {
   "cell_type": "code",
   "execution_count": 41,
   "metadata": {},
   "outputs": [
    {
     "data": {
      "text/plain": [
       "array([[0.08333334]], dtype=float32)"
      ]
     },
     "execution_count": 41,
     "metadata": {},
     "output_type": "execute_result"
    }
   ],
   "source": [
    "keras_cv.bounding_box.compute_iou( boxes1=box1, boxes2=box2, bounding_box_format='xyxy').numpy()"
   ]
  },
  {
   "cell_type": "markdown",
   "metadata": {},
   "source": [
    "#### Segmentation (pixels) Input\n",
    "\n",
    "Note that in Keras `IoU`, `BinaryIoU` and `meanIoU` have a different input than the bounding box edges - that is the prediction per pixel.\n",
    "In Keras:\n",
    "* `BinaryIoU` calculates the IoU over a single binary class ([docs](https://www.tensorflow.org/api_docs/python/tf/keras/metrics/BinaryIoU))\n",
    "* `IoU` calculates IoU over a single class ([docs](https://www.tensorflow.org/api_docs/python/tf/keras/metrics/IoU))\n",
    "* `meanIoU` calculates the mean IoU over multiple classes ([docs](https://www.tensorflow.org/api_docs/python/tf/keras/metrics/MeanIoU))\n",
    "\n",
    "The formula for all of these three is:\n",
    "```\n",
    "iou = true_positives / (true_positives + false_positives + false_negatives)\n",
    "```\n",
    "\n",
    "For example, assume you are trying to predict if each pixel is cat, dog, or background. \n",
    "You have 80% background pixels, 10% dog, and 10% cat.\n",
    "The model predicts 100% background."
   ]
  },
  {
   "cell_type": "markdown",
   "metadata": {},
   "source": [
    "#### IoU"
   ]
  },
  {
   "cell_type": "code",
   "execution_count": 38,
   "metadata": {},
   "outputs": [
    {
     "data": {
      "text/plain": [
       "0.33333334"
      ]
     },
     "execution_count": 38,
     "metadata": {},
     "output_type": "execute_result"
    }
   ],
   "source": [
    "m = tf.keras.metrics.IoU(num_classes=2, target_class_ids=[0])\n",
    "m.update_state([0, 0, 1, 1], [0, 1, 0, 1])\n",
    "m.result().numpy()"
   ]
  },
  {
   "cell_type": "markdown",
   "metadata": {},
   "source": [
    "Let's analyze:\n",
    "\n",
    "|Ground Truth|Prediction|Outcome|\n",
    "|------------|----------|-------|\n",
    "|0|0|True Positive|\n",
    "|0|1|False Negative|\n",
    "|1|0|False Positive|\n",
    "|1|1|True Negative|\n",
    "\n",
    "So according to the formula:\n",
    "\n",
    "```\n",
    "iou = 1/(1+1+1) = 0.33\n",
    "```"
   ]
  },
  {
   "cell_type": "markdown",
   "metadata": {},
   "source": [
    "#### Binary IoU"
   ]
  },
  {
   "cell_type": "code",
   "execution_count": 39,
   "metadata": {},
   "outputs": [
    {
     "data": {
      "text/plain": [
       "0.33333334"
      ]
     },
     "execution_count": 39,
     "metadata": {},
     "output_type": "execute_result"
    }
   ],
   "source": [
    "m = tf.keras.metrics.BinaryIoU(target_class_ids=[0, 1], threshold=0.3)\n",
    "m.update_state([0, 1, 0, 1], [0.1, 0.2, 0.4, 0.7])\n",
    "m.result().numpy()"
   ]
  },
  {
   "cell_type": "markdown",
   "metadata": {},
   "source": [
    "**To the Student**: To understand why the calculation is over both labels, see the docs of `BinaryIoU` for `target_class_ids`.\n",
    "\n",
    "Let's analyze:\n",
    "\n",
    "|Ground Truth|Prediction|Outcome with respect to label 0|Output with respect to label 1|\n",
    "|------------|----------|-------------------------------|------------------------------|\n",
    "|0|0.1<0.3 => 0|True Positive|True Negative|\n",
    "|1|0.2<0.3 => 0|False Positive|False Negative|\n",
    "|0|0.4>0.3 => 1|False Negative|False Positive|\n",
    "|1|0.7>0.3 => 1|True Negative|True Positive|\n",
    "\n",
    "So according to the formula:\n",
    "\n",
    "```\n",
    "iou = 1/(1+1+1) + 1/(1+1+1)= (0.33 + 0.33)/2 = 0.33\n",
    "```"
   ]
  },
  {
   "cell_type": "markdown",
   "metadata": {},
   "source": [
    "#### MeanIoU"
   ]
  },
  {
   "cell_type": "code",
   "execution_count": 40,
   "metadata": {},
   "outputs": [
    {
     "data": {
      "text/plain": [
       "0.33333334"
      ]
     },
     "execution_count": 40,
     "metadata": {},
     "output_type": "execute_result"
    }
   ],
   "source": [
    "m = tf.keras.metrics.MeanIoU(num_classes=2)\n",
    "m.update_state([0, 0, 1, 1], [0, 1, 0, 1])\n",
    "m.result().numpy()\n"
   ]
  }
 ],
 "metadata": {
  "kernelspec": {
   "display_name": "tensorflow_cpu",
   "language": "python",
   "name": "python3"
  },
  "language_info": {
   "codemirror_mode": {
    "name": "ipython",
    "version": 3
   },
   "file_extension": ".py",
   "mimetype": "text/x-python",
   "name": "python",
   "nbconvert_exporter": "python",
   "pygments_lexer": "ipython3",
   "version": "3.11.3"
  },
  "orig_nbformat": 4
 },
 "nbformat": 4,
 "nbformat_minor": 2
}
