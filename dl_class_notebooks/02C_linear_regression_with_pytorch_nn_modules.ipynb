{
 "cells": [
  {
   "attachments": {},
   "cell_type": "markdown",
   "metadata": {},
   "source": [
    "In this notebook the definion of models using PyTorch `nn.Module`.\n",
    "This method is important since most commonly, PyTorch models are not defined directly by operations such as `matmul`. Rather, higher level abstractions are used. These are the PyTorch `nn.Module`s, which wrap such lower-level operations, and adds a way more functionality (such as defining and initializing its own parameters). This is the default method to use when working with neural networks in PyTorch.\n",
    "\n",
    "In this notebook we go back to the linear regression problem, and replace the functional definition of the model, with the `nn.Module` class, whole also  introducing the required changes downstream.\n",
    "\n",
    "The key takeaways is:\n",
    "1. Use the `nn` module to define the model and loss function"
   ]
  },
  {
   "cell_type": "code",
   "execution_count": 1,
   "metadata": {},
   "outputs": [],
   "source": [
    "import torch\n",
    "import torch.optim as optim\n",
    "from torch import nn\n",
    "import matplotlib.pyplot as plt\n",
    "import helpers as h\n",
    "from math import floor, ceil"
   ]
  },
  {
   "cell_type": "code",
   "execution_count": 2,
   "metadata": {},
   "outputs": [
    {
     "data": {
      "text/plain": [
       "<torch._C.Generator at 0x27c6f030570>"
      ]
     },
     "execution_count": 2,
     "metadata": {},
     "output_type": "execute_result"
    }
   ],
   "source": [
    "# Set the random seed for reproducibility\n",
    "torch.manual_seed(42)"
   ]
  },
  {
   "attachments": {},
   "cell_type": "markdown",
   "metadata": {},
   "source": [
    "### Generating the Input Data\n",
    "Each instance (data entry) represents a point in a two-dimensional space $(x_i,y_i)$. The data points are generated around a line defined by its slope and intercept with the y-axis (at $x=0$). The x-values are chosen randomly from a given range. The y-values are generated according to the $x$ and the linear equation, with a random uniform noise around it.   "
   ]
  },
  {
   "cell_type": "code",
   "execution_count": 3,
   "metadata": {},
   "outputs": [],
   "source": [
    "NUMBER_OF_DATA_POINTS = 4\n",
    "X_RANGE = {\n",
    "    'min': 0.,\n",
    "    'max': 2.\n",
    "}\n",
    "SLOPE = 3\n",
    "INTERCEPT = 4\n",
    "NOISE_RANGE = 1.5\n",
    "\n",
    "def generate_data(\n",
    "    x_range:dict[str, float]=X_RANGE,\n",
    "    number_of_data_points:int=NUMBER_OF_DATA_POINTS,\n",
    "    slope:float=SLOPE,\n",
    "    intercept:float=INTERCEPT,\n",
    "    noise_range:float=NOISE_RANGE\n",
    "    ) -> tuple[torch.Tensor, torch.Tensor]:\n",
    "    \"\"\"\n",
    "    Generates data for linear regression.\n",
    "    \"\"\"\n",
    "    range = X_RANGE['max'] - X_RANGE['min']\n",
    "    X = x_range['min'] + (range * torch.rand(size=(number_of_data_points, 1)))  # randomly-generated x-values, taken from a uniform distribution within `x_range`\n",
    "    y = intercept + (slope * X) + (((torch.rand(size=(number_of_data_points, 1)) - 0.5) * 2) * noise_range)  # y-values with uniformaliy distributed noise added\n",
    "    return X, y\n",
    "\n",
    "X, y = generate_data()"
   ]
  },
  {
   "cell_type": "code",
   "execution_count": 4,
   "metadata": {},
   "outputs": [
    {
     "name": "stdout",
     "output_type": "stream",
     "text": [
      "tensor([[1.7645],\n",
      "        [1.8300],\n",
      "        [0.7657],\n",
      "        [1.9186]])\n",
      "Dimension    2\n",
      "Shape        (4, 1)\n"
     ]
    }
   ],
   "source": [
    "h.print_tensor_info(X, fields=['Tensor', 'Dimension', 'Shape'])"
   ]
  },
  {
   "cell_type": "code",
   "execution_count": 5,
   "metadata": {},
   "outputs": [
    {
     "name": "stdout",
     "output_type": "stream",
     "text": [
      "tensor([[ 8.9650],\n",
      "        [ 9.7927],\n",
      "        [ 5.5669],\n",
      "        [10.6368]])\n",
      "Dimension    2\n",
      "Shape        (4, 1)\n"
     ]
    }
   ],
   "source": [
    "h.print_tensor_info(y, fields=['Tensor', 'Dimension', 'Shape'])"
   ]
  },
  {
   "cell_type": "code",
   "execution_count": 6,
   "metadata": {},
   "outputs": [
    {
     "data": {
      "image/png": "[encoded data removed]",
      "text/plain": [
       "<Figure size 640x480 with 1 Axes>"
      ]
     },
     "metadata": {},
     "output_type": "display_data"
    }
   ],
   "source": [
    "def plot_data_points(X, y):\n",
    "    plt.plot(X, y.detach().numpy(), \"b.\")\n",
    "    plt.xlabel(\"$x_1$\")\n",
    "    plt.ylabel(\"$y$\", rotation=0)\n",
    "    plt.title(\"Data Points (instances)\")\n",
    "    plt.axis([X_RANGE['min'], X_RANGE['max'], floor(y.min()), ceil(y.max())])\n",
    "    plt.grid()\n",
    "    plt.show()\n",
    "    return\n",
    "\n",
    "plot_data_points(X, y)"
   ]
  },
  {
   "attachments": {},
   "cell_type": "markdown",
   "metadata": {},
   "source": [
    "### Defining the Model\n",
    "**Defining the model using the `nn` module is the first change we make compared to the previous notebook**\n",
    "Notice that the parameters ($weight$ and $bias$) are defined as part of the model, and are initialized."
   ]
  },
  {
   "cell_type": "code",
   "execution_count": 7,
   "metadata": {},
   "outputs": [],
   "source": [
    "model = nn.Linear(in_features=1, out_features=1)"
   ]
  },
  {
   "cell_type": "code",
   "execution_count": 8,
   "metadata": {},
   "outputs": [
    {
     "name": "stdout",
     "output_type": "stream",
     "text": [
      "Linear(in_features=1, out_features=1, bias=True)\n"
     ]
    }
   ],
   "source": [
    "print(model)"
   ]
  },
  {
   "cell_type": "code",
   "execution_count": 9,
   "metadata": {},
   "outputs": [
    {
     "name": "stdout",
     "output_type": "stream",
     "text": [
      "Model structure: Linear(in_features=1, out_features=1, bias=True)\n",
      "\n",
      "\n",
      "Parameter: weight | Size: torch.Size([1, 1]) | Values : tensor([[0.8815]], grad_fn=<SliceBackward0>) \n",
      "\n",
      "Parameter: bias | Size: torch.Size([1]) | Values : tensor([-0.7336], grad_fn=<SliceBackward0>) \n",
      "\n"
     ]
    }
   ],
   "source": [
    "print(f\"Model structure: {model}\\n\\n\")\n",
    "\n",
    "for name, param in model.named_parameters():\n",
    "    print(f\"Parameter: {name} | Size: {param.size()} | Values : {param[:2]} \\n\")"
   ]
  },
  {
   "cell_type": "code",
   "execution_count": 10,
   "metadata": {},
   "outputs": [],
   "source": [
    "def predict(X: torch.Tensor) -> torch.Tensor:\n",
    "    \"\"\"\n",
    "    Calculates the value of the model, at points X.\n",
    "    Parameters:\n",
    "    ----------\n",
    "    X: torch tensor of shape (number_of_points_to_predict, 1), representing the x-values of the points to predict\n",
    "    Returns:\n",
    "    -------\n",
    "    y_predicted: a torch tensor of shape (number_of_points_to_predict, 1), representing the predicted y-values of the points according to the model\n",
    "    \"\"\"\n",
    "    return model(X)"
   ]
  },
  {
   "cell_type": "code",
   "execution_count": 11,
   "metadata": {},
   "outputs": [],
   "source": [
    "y_predicted = predict(X)"
   ]
  },
  {
   "cell_type": "code",
   "execution_count": 12,
   "metadata": {},
   "outputs": [
    {
     "name": "stdout",
     "output_type": "stream",
     "text": [
      "tensor([[ 0.8219],\n",
      "        [ 0.8796],\n",
      "        [-0.0586],\n",
      "        [ 0.9577]], grad_fn=<AddmmBackward0>)\n",
      "Dimension    2\n",
      "Shape        (4, 1)\n"
     ]
    }
   ],
   "source": [
    "h.print_tensor_info(y_predicted, fields=['Tensor', 'Dimension', 'Shape'])"
   ]
  },
  {
   "cell_type": "code",
   "execution_count": 13,
   "metadata": {},
   "outputs": [
    {
     "data": {
      "image/png": "[encoded data removed]",
      "text/plain": [
       "<Figure size 640x480 with 1 Axes>"
      ]
     },
     "metadata": {},
     "output_type": "display_data"
    }
   ],
   "source": [
    "plot_data_points(X, y_predicted)"
   ]
  },
  {
   "attachments": {},
   "cell_type": "markdown",
   "metadata": {},
   "source": [
    "### Setting up a Loss Function"
   ]
  },
  {
   "attachments": {},
   "cell_type": "markdown",
   "metadata": {},
   "source": [
    "The loss function we are going to use is the mean squared error (MSE):\n",
    "\n",
    "$\\frac{1}{m}*\\sum_{n=1} ^{m} (y_{predicted, n} - y_n)^2$"
   ]
  },
  {
   "attachments": {},
   "cell_type": "markdown",
   "metadata": {},
   "source": [
    "The `nn` module allows us to define the loss function as well, so this is the second change we introduce here"
   ]
  },
  {
   "cell_type": "code",
   "execution_count": 14,
   "metadata": {},
   "outputs": [],
   "source": [
    "loss_fn = nn.MSELoss()\n",
    "loss = loss_fn(y_predicted, y)"
   ]
  },
  {
   "cell_type": "code",
   "execution_count": 15,
   "metadata": {},
   "outputs": [
    {
     "name": "stdout",
     "output_type": "stream",
     "text": [
      "67.77084350585938\n",
      "Dimension    0\n",
      "Shape        ()\n"
     ]
    }
   ],
   "source": [
    "h.print_tensor_info(loss, fields=['Tensor', 'Dimension', 'Shape'])"
   ]
  },
  {
   "attachments": {},
   "cell_type": "markdown",
   "metadata": {},
   "source": [
    "### Optimization"
   ]
  },
  {
   "cell_type": "code",
   "execution_count": 16,
   "metadata": {},
   "outputs": [
    {
     "name": "stdout",
     "output_type": "stream",
     "text": [
      "Learning Rate: 0.01\n"
     ]
    }
   ],
   "source": [
    "lr = 0.01\n",
    "print(f'Learning Rate: {lr:.4}')"
   ]
  },
  {
   "cell_type": "code",
   "execution_count": 17,
   "metadata": {},
   "outputs": [],
   "source": [
    "optimizer = optim.SGD(model.parameters(), lr=lr)"
   ]
  },
  {
   "cell_type": "code",
   "execution_count": 18,
   "metadata": {},
   "outputs": [],
   "source": [
    "def train_iteration(X, y, model, loss_fn, optimizer):\n",
    "    # Compute prediction and loss\n",
    "    pred = model(X)\n",
    "    loss = loss_fn(pred, y)\n",
    "\n",
    "    # Backpropagation\n",
    "    optimizer.zero_grad()\n",
    "    loss.backward()\n",
    "    optimizer.step()\n",
    "    return loss"
   ]
  },
  {
   "cell_type": "code",
   "execution_count": 19,
   "metadata": {},
   "outputs": [
    {
     "name": "stdout",
     "output_type": "stream",
     "text": [
      "Epoch 0, Loss 67.770844\n",
      "Epoch 10, Loss 17.658176\n",
      "Epoch 20, Loss 4.083312\n",
      "Epoch 30, Loss 1.065330\n",
      "Epoch 40, Loss 0.393462\n",
      "Epoch 50, Loss 0.243006\n",
      "Epoch 60, Loss 0.208453\n",
      "Epoch 70, Loss 0.199682\n",
      "Epoch 80, Loss 0.196668\n",
      "Epoch 90, Loss 0.194958\n",
      "Epoch 100, Loss 0.193563\n",
      "Done\n"
     ]
    }
   ],
   "source": [
    "print('Epoch 0, Loss %f' % (float(loss.item())))\n",
    "epochs = 100\n",
    "for epoch in range(epochs):\n",
    "    loss = train_iteration(X, y, model, loss_fn, optimizer)\n",
    "    if (epoch+1) % 10 == 0:\n",
    "            print('Epoch %d, Loss %f' % (epoch+1, float(loss.item())))\n",
    "print(\"Done\")"
   ]
  },
  {
   "cell_type": "code",
   "execution_count": null,
   "metadata": {},
   "outputs": [],
   "source": []
  }
 ],
 "metadata": {
  "kernelspec": {
   "display_name": "pytorch_cpu",
   "language": "python",
   "name": "python3"
  },
  "language_info": {
   "codemirror_mode": {
    "name": "ipython",
    "version": 3
   },
   "file_extension": ".py",
   "mimetype": "text/x-python",
   "name": "python",
   "nbconvert_exporter": "python",
   "pygments_lexer": "ipython3",
   "version": "3.11.3"
  },
  "orig_nbformat": 4,
  "vscode": {
   "interpreter": {
    "hash": "ea445e1515f943d2885e4730ea69ace15b02c78ac5cd5be2a495018cd89fb42d"
   }
  }
 },
 "nbformat": 4,
 "nbformat_minor": 2
}
